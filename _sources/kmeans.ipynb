{
 "cells": [
  {
   "cell_type": "markdown",
   "metadata": {},
   "source": [
    "# Nomer 1 : Pre Processing Data, Tfidf dan K-Means"
   ]
  },
  {
   "cell_type": "markdown",
   "metadata": {},
   "source": [
    "<h2>Import Library</h2>\n",
    "\n",
    "<p>Langkah pertama adalah melakukan import library yang dimana nantinya digunakan untuk membaca data mauapaun memanipulasi data, untuk tahapan preprocessing, Tf-idf, maupun untuk K means clustering</p>"
   ]
  },
  {
   "cell_type": "code",
   "execution_count": 1,
   "metadata": {
    "_cell_guid": "b1076dfc-b9ad-4769-8c92-a6c4dae69d19",
    "_uuid": "8f2839f25d086af736a60e9eeb907d3b93b6e0e5"
   },
   "outputs": [],
   "source": [
    "import numpy as np \n",
    "import pandas as pd \n",
    "import matplotlib.pyplot as plt\n",
    "import seaborn as sns\n",
    "from sklearn.feature_extraction import text\n",
    "from sklearn.feature_extraction.text import TfidfVectorizer\n",
    "from sklearn.cluster import KMeans\n",
    "from nltk.tokenize import RegexpTokenizer\n",
    "from nltk.stem.snowball import SnowballStemmer\n",
    "from nltk.corpus import stopwords\n",
    "from Sastrawi.Stemmer.StemmerFactory import StemmerFactory\n",
    "%matplotlib inline"
   ]
  },
  {
   "cell_type": "markdown",
   "metadata": {},
   "source": [
    "<h2>Membaca Dokumen</h2>\n",
    "\n",
    "<p>Setelahnya, proses yang dilakukan adalah membuka dokumen hasil Crawling yang telah dilakukan sebelumnya.</p>\n",
    "<p>Juga, menampilkan file hasil crawling, dan dapat dilihat dibawah data hasil crawling berjumlah 15</p>"
   ]
  },
  {
   "cell_type": "code",
   "execution_count": 2,
   "metadata": {
    "_cell_guid": "79c7e3d0-c299-4dcb-8224-4455121ee9b0",
    "_uuid": "d629ff2d2480ee46fbb7e2d37f6b5fab8052498a",
    "scrolled": true
   },
   "outputs": [
    {
     "data": {
      "text/html": [
       "<div>\n",
       "<style scoped>\n",
       "    .dataframe tbody tr th:only-of-type {\n",
       "        vertical-align: middle;\n",
       "    }\n",
       "\n",
       "    .dataframe tbody tr th {\n",
       "        vertical-align: top;\n",
       "    }\n",
       "\n",
       "    .dataframe thead th {\n",
       "        text-align: right;\n",
       "    }\n",
       "</style>\n",
       "<table border=\"1\" class=\"dataframe\">\n",
       "  <thead>\n",
       "    <tr style=\"text-align: right;\">\n",
       "      <th></th>\n",
       "      <th>Judul</th>\n",
       "      <th>Abstrak</th>\n",
       "    </tr>\n",
       "  </thead>\n",
       "  <tbody>\n",
       "    <tr>\n",
       "      <th>0</th>\n",
       "      <td>Pengaruh Retailing Mix terhadap Keputusan Pemb...</td>\n",
       "      <td>Tujuan penelitian ini adalah untuk mengetahui ...</td>\n",
       "    </tr>\n",
       "    <tr>\n",
       "      <th>1</th>\n",
       "      <td>PENGARUH PERSEPSI MANFAAT, PERSEPSI KEMUDAHAN,...</td>\n",
       "      <td>Tujuan penelitian ini adalah untuk mengidentif...</td>\n",
       "    </tr>\n",
       "    <tr>\n",
       "      <th>2</th>\n",
       "      <td>PELAPORAN BIAYA KUALITAS UNTUK MEMINIMALKAN TE...</td>\n",
       "      <td>ABSTRAK\\r\\n\\r\\nPenelitian ini mengungkapkan be...</td>\n",
       "    </tr>\n",
       "    <tr>\n",
       "      <th>3</th>\n",
       "      <td>PENGARUH KOMPETENSI DOSEN TERHADAP KINERJA DOS...</td>\n",
       "      <td>Abstrak\\r\\n\\r\\nAththaariq, Pengaruh Kompetensi...</td>\n",
       "    </tr>\n",
       "    <tr>\n",
       "      <th>4</th>\n",
       "      <td>PENGARUH PENGEMBANGAN KARIR TERHADAP SEMANGAT ...</td>\n",
       "      <td>PLN merupakan Badan Usaha Milik Negara yang be...</td>\n",
       "    </tr>\n",
       "    <tr>\n",
       "      <th>5</th>\n",
       "      <td>Analisis Inovasi Dan Keunggulan Bersaing \\r\\nD...</td>\n",
       "      <td>ABSTRAK\\r\\n\\tTujuan penelitian ini adalah mend...</td>\n",
       "    </tr>\n",
       "    <tr>\n",
       "      <th>6</th>\n",
       "      <td>PENGARUH TIPE KEPEMIMPINAN TERHADAP PRESTASI K...</td>\n",
       "      <td>ABSTRAK\\r\\n\\tDharma Abidin Syah,Kesimpulan: (1...</td>\n",
       "    </tr>\n",
       "    <tr>\n",
       "      <th>7</th>\n",
       "      <td>PENGARUH PERILAKU KONSUMEN TERHADAP KEPUTUSAN ...</td>\n",
       "      <td>ABSTRAK\\r\\nHaryono Arifin, Pengaruh Perilaku K...</td>\n",
       "    </tr>\n",
       "    <tr>\n",
       "      <th>8</th>\n",
       "      <td>PENGARUH DIMENSI KUALITAS PELAYANAN TERHADAP K...</td>\n",
       "      <td>ABSTRAK\\r\\n\\r\\nTujuan penelitian ini adalah un...</td>\n",
       "    </tr>\n",
       "    <tr>\n",
       "      <th>9</th>\n",
       "      <td>ANALISIS TINGKAT RISIKO KREDIT \\r\\nPADA PD. BP...</td>\n",
       "      <td>Hasil dari penelitian ini dari perhitungan Cre...</td>\n",
       "    </tr>\n",
       "    <tr>\n",
       "      <th>10</th>\n",
       "      <td>ANALISIS PERSEPSI BRAND ASSOCIATION MENURUT PE...</td>\n",
       "      <td>Tujuan penelitian ini adalah untuk mengetahui ...</td>\n",
       "    </tr>\n",
       "    <tr>\n",
       "      <th>11</th>\n",
       "      <td>PENGARUH FAKTOR-FAKTOR PELATIHAN DAN PENGEMBAN...</td>\n",
       "      <td>ABSTRAK\\r\\...</td>\n",
       "    </tr>\n",
       "    <tr>\n",
       "      <th>12</th>\n",
       "      <td>PENGARUH KEPEMIMPINAN DAN KOMPENSASI TERHADAP ...</td>\n",
       "      <td>Abstrak\\r\\nPenelitian ini menggunakan metode k...</td>\n",
       "    </tr>\n",
       "    <tr>\n",
       "      <th>13</th>\n",
       "      <td>Pengukuran Website Quality Pada Situs Sistem A...</td>\n",
       "      <td>Aplikasi nyata pemanfaatan teknologi informasi...</td>\n",
       "    </tr>\n",
       "    <tr>\n",
       "      <th>14</th>\n",
       "      <td>PENGARUH GAYA KEPEMIMPINAN DEMOKRATIK TERHADAP...</td>\n",
       "      <td>NaN</td>\n",
       "    </tr>\n",
       "  </tbody>\n",
       "</table>\n",
       "</div>"
      ],
      "text/plain": [
       "                                                Judul  \\\n",
       "0   Pengaruh Retailing Mix terhadap Keputusan Pemb...   \n",
       "1   PENGARUH PERSEPSI MANFAAT, PERSEPSI KEMUDAHAN,...   \n",
       "2   PELAPORAN BIAYA KUALITAS UNTUK MEMINIMALKAN TE...   \n",
       "3   PENGARUH KOMPETENSI DOSEN TERHADAP KINERJA DOS...   \n",
       "4   PENGARUH PENGEMBANGAN KARIR TERHADAP SEMANGAT ...   \n",
       "5   Analisis Inovasi Dan Keunggulan Bersaing \\r\\nD...   \n",
       "6   PENGARUH TIPE KEPEMIMPINAN TERHADAP PRESTASI K...   \n",
       "7   PENGARUH PERILAKU KONSUMEN TERHADAP KEPUTUSAN ...   \n",
       "8   PENGARUH DIMENSI KUALITAS PELAYANAN TERHADAP K...   \n",
       "9   ANALISIS TINGKAT RISIKO KREDIT \\r\\nPADA PD. BP...   \n",
       "10  ANALISIS PERSEPSI BRAND ASSOCIATION MENURUT PE...   \n",
       "11  PENGARUH FAKTOR-FAKTOR PELATIHAN DAN PENGEMBAN...   \n",
       "12  PENGARUH KEPEMIMPINAN DAN KOMPENSASI TERHADAP ...   \n",
       "13  Pengukuran Website Quality Pada Situs Sistem A...   \n",
       "14  PENGARUH GAYA KEPEMIMPINAN DEMOKRATIK TERHADAP...   \n",
       "\n",
       "                                              Abstrak  \n",
       "0   Tujuan penelitian ini adalah untuk mengetahui ...  \n",
       "1   Tujuan penelitian ini adalah untuk mengidentif...  \n",
       "2   ABSTRAK\\r\\n\\r\\nPenelitian ini mengungkapkan be...  \n",
       "3   Abstrak\\r\\n\\r\\nAththaariq, Pengaruh Kompetensi...  \n",
       "4   PLN merupakan Badan Usaha Milik Negara yang be...  \n",
       "5   ABSTRAK\\r\\n\\tTujuan penelitian ini adalah mend...  \n",
       "6   ABSTRAK\\r\\n\\tDharma Abidin Syah,Kesimpulan: (1...  \n",
       "7   ABSTRAK\\r\\nHaryono Arifin, Pengaruh Perilaku K...  \n",
       "8   ABSTRAK\\r\\n\\r\\nTujuan penelitian ini adalah un...  \n",
       "9   Hasil dari penelitian ini dari perhitungan Cre...  \n",
       "10  Tujuan penelitian ini adalah untuk mengetahui ...  \n",
       "11                                      ABSTRAK\\r\\...  \n",
       "12  Abstrak\\r\\nPenelitian ini menggunakan metode k...  \n",
       "13  Aplikasi nyata pemanfaatan teknologi informasi...  \n",
       "14                                                NaN  "
      ]
     },
     "execution_count": 2,
     "metadata": {},
     "output_type": "execute_result"
    }
   ],
   "source": [
    "data = pd.read_csv(r'hasil_crawling.csv')\n",
    "data"
   ]
  },
  {
   "cell_type": "markdown",
   "metadata": {},
   "source": [
    "<p>Dikarenakan pada data ke 15 atau index 14 data Abstraknya NaN atau kosong, maka disini data pada baris tersebut akan dihilangkan</p>\n",
    "<p>Juga disini akan membuang kolom yang tidak digunakan, kolom yang dibuang adalah kolom Judul.</p>"
   ]
  },
  {
   "cell_type": "code",
   "execution_count": 3,
   "metadata": {
    "_cell_guid": "3e44d856-a323-45ac-b7cc-80d77385060f",
    "_uuid": "a498ee778ab763e0801b8f9cf14e1d4d01f38846"
   },
   "outputs": [
    {
     "data": {
      "text/html": [
       "<div>\n",
       "<style scoped>\n",
       "    .dataframe tbody tr th:only-of-type {\n",
       "        vertical-align: middle;\n",
       "    }\n",
       "\n",
       "    .dataframe tbody tr th {\n",
       "        vertical-align: top;\n",
       "    }\n",
       "\n",
       "    .dataframe thead th {\n",
       "        text-align: right;\n",
       "    }\n",
       "</style>\n",
       "<table border=\"1\" class=\"dataframe\">\n",
       "  <thead>\n",
       "    <tr style=\"text-align: right;\">\n",
       "      <th></th>\n",
       "      <th>Abstrak</th>\n",
       "    </tr>\n",
       "  </thead>\n",
       "  <tbody>\n",
       "    <tr>\n",
       "      <th>0</th>\n",
       "      <td>Tujuan penelitian ini adalah untuk mengetahui ...</td>\n",
       "    </tr>\n",
       "    <tr>\n",
       "      <th>1</th>\n",
       "      <td>Tujuan penelitian ini adalah untuk mengidentif...</td>\n",
       "    </tr>\n",
       "    <tr>\n",
       "      <th>2</th>\n",
       "      <td>ABSTRAK\\r\\n\\r\\nPenelitian ini mengungkapkan be...</td>\n",
       "    </tr>\n",
       "    <tr>\n",
       "      <th>3</th>\n",
       "      <td>Abstrak\\r\\n\\r\\nAththaariq, Pengaruh Kompetensi...</td>\n",
       "    </tr>\n",
       "    <tr>\n",
       "      <th>4</th>\n",
       "      <td>PLN merupakan Badan Usaha Milik Negara yang be...</td>\n",
       "    </tr>\n",
       "    <tr>\n",
       "      <th>5</th>\n",
       "      <td>ABSTRAK\\r\\n\\tTujuan penelitian ini adalah mend...</td>\n",
       "    </tr>\n",
       "    <tr>\n",
       "      <th>6</th>\n",
       "      <td>ABSTRAK\\r\\n\\tDharma Abidin Syah,Kesimpulan: (1...</td>\n",
       "    </tr>\n",
       "    <tr>\n",
       "      <th>7</th>\n",
       "      <td>ABSTRAK\\r\\nHaryono Arifin, Pengaruh Perilaku K...</td>\n",
       "    </tr>\n",
       "    <tr>\n",
       "      <th>8</th>\n",
       "      <td>ABSTRAK\\r\\n\\r\\nTujuan penelitian ini adalah un...</td>\n",
       "    </tr>\n",
       "    <tr>\n",
       "      <th>9</th>\n",
       "      <td>Hasil dari penelitian ini dari perhitungan Cre...</td>\n",
       "    </tr>\n",
       "    <tr>\n",
       "      <th>10</th>\n",
       "      <td>Tujuan penelitian ini adalah untuk mengetahui ...</td>\n",
       "    </tr>\n",
       "    <tr>\n",
       "      <th>11</th>\n",
       "      <td>ABSTRAK\\r\\...</td>\n",
       "    </tr>\n",
       "    <tr>\n",
       "      <th>12</th>\n",
       "      <td>Abstrak\\r\\nPenelitian ini menggunakan metode k...</td>\n",
       "    </tr>\n",
       "    <tr>\n",
       "      <th>13</th>\n",
       "      <td>Aplikasi nyata pemanfaatan teknologi informasi...</td>\n",
       "    </tr>\n",
       "  </tbody>\n",
       "</table>\n",
       "</div>"
      ],
      "text/plain": [
       "                                              Abstrak\n",
       "0   Tujuan penelitian ini adalah untuk mengetahui ...\n",
       "1   Tujuan penelitian ini adalah untuk mengidentif...\n",
       "2   ABSTRAK\\r\\n\\r\\nPenelitian ini mengungkapkan be...\n",
       "3   Abstrak\\r\\n\\r\\nAththaariq, Pengaruh Kompetensi...\n",
       "4   PLN merupakan Badan Usaha Milik Negara yang be...\n",
       "5   ABSTRAK\\r\\n\\tTujuan penelitian ini adalah mend...\n",
       "6   ABSTRAK\\r\\n\\tDharma Abidin Syah,Kesimpulan: (1...\n",
       "7   ABSTRAK\\r\\nHaryono Arifin, Pengaruh Perilaku K...\n",
       "8   ABSTRAK\\r\\n\\r\\nTujuan penelitian ini adalah un...\n",
       "9   Hasil dari penelitian ini dari perhitungan Cre...\n",
       "10  Tujuan penelitian ini adalah untuk mengetahui ...\n",
       "11                                      ABSTRAK\\r\\...\n",
       "12  Abstrak\\r\\nPenelitian ini menggunakan metode k...\n",
       "13  Aplikasi nyata pemanfaatan teknologi informasi..."
      ]
     },
     "execution_count": 3,
     "metadata": {},
     "output_type": "execute_result"
    }
   ],
   "source": [
    "data.drop([14], axis=0, inplace=True)\n",
    "data.drop(['Judul'],axis=1,inplace=True)\n",
    "data"
   ]
  },
  {
   "cell_type": "markdown",
   "metadata": {},
   "source": [
    "<h2>Stopword</h2>\n",
    "<p>Disini menggunakan stopwords indonesia, juga menambahkan beberapa stopword yang mungkin dibutuhkan untuk menghilangkan kata-kata yang tidak diperlukan.</p>"
   ]
  },
  {
   "cell_type": "code",
   "execution_count": 4,
   "metadata": {
    "_cell_guid": "c7e595ab-440c-4ad7-98e4-4358cc724d8c",
    "_uuid": "9c1c23ecabae8217a9aa8f90371f2a30053cc6f1"
   },
   "outputs": [],
   "source": [
    "list_stopwords = stopwords.words('indonesian')\n",
    "\n",
    "\n",
    "# manualy add stopword\n",
    "# append additional stopword\n",
    "list_stopwords.extend([\"yg\", \"dg\", \"rt\", \"dgn\", \"ny\", \"d\", 'klo', \n",
    "                       'kalo', 'amp', 'biar', 'bikin', 'bilang', \n",
    "                       'gak', 'ga', 'krn', 'nya', 'nih', 'sih', \n",
    "                       'si', 'tau', 'tdk', 'tuh', 'utk', 'ya', \n",
    "                       'jd', 'jgn', 'sdh', 'aja', 'n', 't', \n",
    "                       'nyg', 'hehe', 'pen', 'u', 'nan', 'loh', 'rt',\n",
    "                       '&amp', 'yah'])"
   ]
  },
  {
   "cell_type": "markdown",
   "metadata": {
    "_cell_guid": "871b1bd6-c411-4ff6-a784-9b376a0db4e6",
    "_uuid": "e480f5b88938660f05c09f75af5f9f58d7110096"
   },
   "source": [
    "<h2>Stemming dan Tokenizing</h2>\n",
    "\n",
    "<p>Pada bagian ini, membuat fungsi untuk proses stemming dan tokensisasi sekaligus mengubah ukuran huruf menjadi lower case semua.</p>"
   ]
  },
  {
   "cell_type": "code",
   "execution_count": 5,
   "metadata": {
    "_cell_guid": "536a1a88-48a3-43d0-b368-ccf31947e5b1",
    "_uuid": "5d25104db183624b990a1d64e10cc618fd8ee715"
   },
   "outputs": [],
   "source": [
    "factory = StemmerFactory()\n",
    "stemmer = factory.create_stemmer()\n",
    "tokenizer = RegexpTokenizer(r'[a-zA-Z\\']+')\n",
    "\n",
    "def tokenize(text):\n",
    "    return [stemmer.stem(word) for word in tokenizer.tokenize(text.lower())]"
   ]
  },
  {
   "cell_type": "markdown",
   "metadata": {
    "_cell_guid": "9877cf33-ebe8-46e4-b26e-c6f673617517",
    "_uuid": "d190c4d6b9cb52ad70a021e3475704538b47f85f"
   },
   "source": [
    "<h2>Tfidf</h2>\n",
    "\n",
    "<p>Pada prses ini dilakukan proses Tfidf</p>\n",
    "<p>Dalam TfidfVectorizer sendiri telah terset default untuk membuat semua huruf menjadi lowercase </p>\n",
    "</p>\n",
    "\n",
    "<p>Untuk rumus Tfidf sendiri adalah sebagai berikut</p>"
   ]
  },
  {
   "cell_type": "markdown",
   "metadata": {},
   "source": [
    "$w_{i, j}=t f_{i, j} \\times \\log \\left(\\frac{N}{d f_{i}}\\right)$\n",
    "\n",
    "$\n",
    "\\begin{aligned}\n",
    "t f_{i, j} &=\\text { banyaknya kata- } i \\text { pada dokumen ke- } j \\\\\n",
    "N &=\\text { total dokumen } \\\\\n",
    "d f_{i} &=\\text { banyaknya dokumen yang mengandung kata ke- } i\n",
    "\\end{aligned}\n",
    "$"
   ]
  },
  {
   "cell_type": "code",
   "execution_count": 6,
   "metadata": {
    "_cell_guid": "18e1d30c-5515-4c0d-89e4-6af99658bee3",
    "_uuid": "5fcc93fa3093f30d181ffa38b4ca46b133316952",
    "scrolled": false
   },
   "outputs": [
    {
     "name": "stderr",
     "output_type": "stream",
     "text": [
      "C:\\Users\\Arlaz\\AppData\\Local\\Programs\\Python\\Python310\\lib\\site-packages\\sklearn\\feature_extraction\\text.py:396: UserWarning: Your stop_words may be inconsistent with your preprocessing. Tokenizing the stop words generated tokens ['arti', 'asa', 'buah', 'bum', 'enak', 'hadap', 'ikan', 'ira', 'jenak', 'kali', 'kena', 'kerja', 'khusus', 'laku', 'langsung', 'lihat', 'maksud', 'masuk', 'mata', 'mena', 'nyata', 'olah', 'orang', 'rupa', 'sampa', 'sangkut', 'sekal', 'sekira', 'sin', 'tama', 'tuju', 'upa', 'utama'] not in stop_words.\n",
      "  warnings.warn(\n",
      "C:\\Users\\Arlaz\\AppData\\Local\\Programs\\Python\\Python310\\lib\\site-packages\\sklearn\\utils\\deprecation.py:87: FutureWarning: Function get_feature_names is deprecated; get_feature_names is deprecated in 1.0 and will be removed in 1.2. Please use get_feature_names_out instead.\n",
      "  warnings.warn(msg, category=FutureWarning)\n"
     ]
    }
   ],
   "source": [
    "desc = data['Abstrak'].values\n",
    "vectorizer = TfidfVectorizer(stop_words = list_stopwords, tokenizer = tokenize)\n",
    "X = vectorizer.fit_transform(desc)\n",
    "word_features = vectorizer.get_feature_names() "
   ]
  },
  {
   "cell_type": "markdown",
   "metadata": {},
   "source": [
    "<p>Dapat dilihat disini, jumlah fitur yang ada berjumlah 430 dan ditampilkan juga 50 fitur awal</p>"
   ]
  },
  {
   "cell_type": "code",
   "execution_count": 7,
   "metadata": {},
   "outputs": [
    {
     "name": "stdout",
     "output_type": "stream",
     "text": [
      "430\n",
      "['a', 'abidin', 'abstrak', 'accidental', 'adjusted', 'administrasi', 'agung', 'akademik', 'aksidental', 'aktif', 'akurat', 'alami', 'alat', 'alkirom', 'aman', 'ambil', 'analis', 'analisis', 'analitik', 'analysis', 'anova', 'anugrahini', 'aplikasi', 'apresisasikan', 'arifin', 'arti', 'association', 'asumsi', 'aththaariq', 'atmosfer', 'atribut', 'aulia', 'autoritarian', 'autoritariansecara', 'b', 'badan', 'bangkal', 'bank', 'banking', 'bantu', 'barokah', 'bebas', 'beda', 'beli', 'beta', 'biaya', 'bidang', 'bimbing', 'bisnis', 'bpr']\n"
     ]
    }
   ],
   "source": [
    "print(len(word_features))\n",
    "print(word_features[:50])"
   ]
  },
  {
   "cell_type": "markdown",
   "metadata": {},
   "source": [
    "<h2>K Means Clustering</h2>\n",
    "\n",
    "<p>Disini setelah melakukan proses Tfidf selanjutnya akan dilakukan pembagian fitur-fitur kedalam beberapa cluster sesuai yang diinginkan dengan menggunakan metode Kmeans.</p>"
   ]
  },
  {
   "cell_type": "markdown",
   "metadata": {
    "_cell_guid": "05f80701-83af-49c1-a7b8-df8c20396bb9",
    "_uuid": "4750051c6cbdc6d262f31a94f5c4776eb020644a"
   },
   "source": [
    "<h3>5 Clusters</h3>\n",
    "<p>Disini akan dilakukan pembagian dari 5 cluster dan proses pembagiannya dilakukan dengan 20 iterasi. </p>\n",
    "<p>Setiap clusternya akan ditampilkan 20 fitur.</p>"
   ]
  },
  {
   "cell_type": "code",
   "execution_count": 8,
   "metadata": {
    "_cell_guid": "137b7e2c-970f-4f2f-929e-c7b2bd2a8004",
    "_uuid": "2813cee7e61b966b179b806d29b222c55551ee35",
    "scrolled": false
   },
   "outputs": [
    {
     "name": "stdout",
     "output_type": "stream",
     "text": [
      "0 : beli, putus, konsumen, variabel, uji, vario, honda, pengaruh, harga, merek, teliti, perilaku, psikologis, merchandise, mix, promosi, gerai, atmosfer, lokasi, hadap\n",
      "1 : tingkat, biaya, lamongan, unggul, saing, inovasi, npl, resiko, bank, lapor, cacat, profitabilitas, alami, produk, kualitas, pasar, risiko, daerah, teliti, optik\n",
      "2 : x, variabel, kerja, pengaruh, kompetensi, pegawai, hadap, pimpin, kembang, uji, prestasi, teliti, nilai, tipe, signifikan, kompensasi, produktivitas, y, pln, puas\n",
      "3 : akademik, puas, portal, langgan, indeks, informasi, webqual, performance, administrasi, importance, mahasiswa, madura, universitas, layan, mutu, situs, website, utm, teknis, ki\n",
      "4 : persepsi, dimensi, internet, banking, ulang, minat, bri, distro, brand, cranberries, association, kiddrock, mudah, teliti, sedia, variabel, pakai, langgan, metode, identifikasi\n"
     ]
    }
   ],
   "source": [
    "kmeans = KMeans(n_clusters = 5, n_init = 20)\n",
    "kmeans.fit(X)\n",
    "common_words = kmeans.cluster_centers_.argsort()[:,-1:-21:-1]\n",
    "space = 0\n",
    "for num, centroid in enumerate(common_words):\n",
    "    print(str(num) + ' : ' + ', '.join(word_features[word] for word in centroid))"
   ]
  },
  {
   "cell_type": "markdown",
   "metadata": {},
   "source": [
    "<p>Untuk hasil tanpa batasan penampilan tiap cluster hanya 20 akan menjadi seperti berikut</p>"
   ]
  },
  {
   "cell_type": "code",
   "execution_count": 9,
   "metadata": {},
   "outputs": [
    {
     "name": "stdout",
     "output_type": "stream",
     "text": [
      "0 : a, pedagogik, pd, pasar, partisipasi, parsial, pangsa, pangarengan, pamekasan, paktek, pakai, orgnisasional, orang, optimalisasi, optik, omzet, olah, observasional, observasi, npl, pegawai, pegawaidikantor, pengaruh, pengembnagan, probality, primer, pribadi, prestasi, presepsi, prambon, praktek, positivisme, positif, nilai, populasi, pln, pimpin, persepsi, periodik, perinci, perilaku, performing, perangkat, pengolaha, pns, negeri, negara, nasional, x, loan, listrik, linier, likert, lihat, laut, latih, lapor, luas, lapang, landas, lamongan, laku, laksana, laissez, lai, kwanyar, kumpul, kuisioner, langsung, produk, lunak, maksimal, nasabah, muhammad, mudah, mt, ms, motor, motivasi, moch, mm, m, mix, minat, milik, metode, merek, merchandise, mentor, menganalisa, mart, manusia, minimal, kuesioner, produktivitas, profitabilitas, terap, terampil, tekan, tawar, tanggap, tabel, syarat, syah, surya, survei, sumbr, sumber, suasana, studi, status, statistik, st, square, spss, terima, thitung, timur, tingkah, wispandono, wildan, wawancara, volume, versi, verification, vario, variabel, validitas, sponsor, usaha, unggul, ulang, ukur, uji, ubah, turun, tuntut, tumbuh, tipe, upaya, sosial, skala, sisa, riset, reza, retailing, retailimg, responden, resiko, research, reliabilitas, rekomendasi, risiko, regresi, reabilitas, ratio, r, putus, pustaka, purposive, psikologis, promosi, program, reduction, profesional, risk, rumus, sipil, simultan, simpul, simple, sikap, signifikansi, signifikan, sifat, setia, rm, sertifikasi, seleksi, sedia, sebar, sdm, satiyah, sarana, sampang, saing, s, semangat, kuat, lokasi, display, dharma, determinasi, desember, depot, dependen, demokratis, dealler, dealer, daya, daerah, cv, credit, cranberriess, cranberries, conclusion, cipta, capai, camat, cacat, dianalisa, didik, dikatagorikan, dimensi, fenomenologi, fenomena, faktor, fairesecara, faire, f, empati, efisien, efektif, cabang, e, drawing, dra, dr, dosen, dominan, dokumen, distro, kuantitatif, dinas, dukung, fhitung, buyung, bukti, asumsi, association, arti, arifin, apresisasikan, anugrahini, anova, analitik, analis, ambil, alkirom, alami, aktif, aksidental, agung, adjusted, accidental, abstrak, abidin, aththaariq, atmosfer, aulia, autoritarian, budaya, buah, bri, brand, bpr, bisnis, bimbing, biaya, beta, butuh, beli, bebas, barokah, bantu, banking, bank, bangkal, badan, b, autoritariansecara, beda, field, y, kantor, kompetensi, independen, kompensasi, individu, indonesia, inovasi, instansi, instruktur, instrumen, internet, koefisiensi, inti, irawati, jabat, kondusif, jamin, jual, judgmental, kabupaten, filsafat, kapuas, karir, koefisien, klasik, kiddrock, karyawan, kecuali, kehandalan, kelola, kembang, jawa, ikat, kenal, gerai, helm, hipotesis, ganda, hitung, ftabel, kota, hj, gerak, harga, honda, harap, hubung, haryono, ikan, kontribusi, konsumen, fisik, fitur, idola, kualitatif, identifikasi, kunci, hadap, tuju, hasil, sampel, sampling, kerja, tingkat, rupa, non, deskriptif, salah, kualitas, deskripsi, manfaat, gambar, bidang, sesuai, proses, aman, nyata, random, alat, atribut, komunikasi, khs, teknologi, update, analysis, krs, ter, kendala, kip, trunjoyo, transkrip, aplikasi, utama, temu, akurat, personal, lukis, fokus, faktual, percaya, guru, prioritas, diagram, online, detail, ikp, implementasi, kena, sampelpenelitianiniadalahmahasiswaangkatan, selenggara, jasa, kuantitaif, sistematis, stratified, sistem, masuk, kartesius, kategori, skor, teknik, data, dasar, analisis, teliti, trunojoyo, tinjau, ki, teknis, utm, website, situs, mutu, layan, universitas, madura, mahasiswa, importance, administrasi, performance, webqual, informasi, indeks, langgan, portal, puas, akademik\n",
      "1 : a, orang, optimalisasi, optik, online, omzet, olah, observasional, observasi, orgnisasional, nyata, non, negeri, negara, nasional, nasabah, mutu, muhammad, mudah, npl, paktek, pamekasan, pangarengan, personal, persepsi, periodik, perinci, upaya, performing, performance, percaya, perangkat, pengolaha, pengembnagan, update, pegawaidikantor, pegawai, pedagogik, pd, pasar, partisipasi, pangsa, mt, pimpin, ms, moch, verification, laut, latih, lapor, lapang, tuntut, lamongan, laksana, lihat, laissez, kumpul, kuisioner, kuat, kuantitaif, kualitatif, krs, kota, kontribusi, lai, likert, listrik, loan, mm, usaha, minimal, minat, milik, utama, utm, mentor, menganalisa, masuk, manusia, manfaat, maksimal, mahasiswa, madura, m, lunak, lukis, luas, motivasi, pln, pns, portal, survei, sumbr, sumber, suasana, stratified, status, statistik, st, syah, sponsor, skala, situs, sistematis, sistem, sipil, simple, sikap, signifikansi, skor, syarat, tabel, tawar, tumbuh, trunojoyo, trunjoyo, transkrip, tipe, tinjau, tingkat, tingkah, timur, thitung, terima, terap, terampil, ter, temu, ubah, teknologi, teknis, tekan, sifat, setia, sesuai, sertifikasi, ratio, random, ukur, pustaka, ulang, unggul, proses, universitas, program, profitabilitas, profesional, produktivitas, probality, prioritas, primer, prestasi, presepsi, praktek, positif, reabilitas, kondusif, reduction, research, semangat, selenggara, seleksi, sedia, sdm, satiyah, sarana, sampelpenelitianiniadalahmahasiswaangkatan, sampang, salah, saing, s, rumus, rm, risk, risiko, riset, reza, resiko, rekomendasi, komunikasi, langgan, kompensasi, diagram, dharma, determinasi, detail, deskriptif, deskripsi, desember, demokratis, daerah, cv, credit, cranberriess, cranberries, conclusion, cipta, capai, camat, didik, dikatagorikan, kompetensi, dimensi, fenomenologi, fenomena, faktual, faktor, fairesecara, faire, efisien, efektif, cacat, e, drawing, dra, dr, dosen, dokumen, distro, display, dinas, dukung, fhitung, cabang, butuh, association, apresisasikan, aplikasi, anugrahini, anova, analysis, analitik, aman, alkirom, alat, alami, akurat, aktif, aksidental, akademik, administrasi, abidin, aththaariq, wispandono, atribut, aulia, buah, bri, brand, bpr, bisnis, bimbing, bidang, biaya, buyung, beta, beda, bantu, banking, bank, badan, b, autoritariansecara, autoritarian, wildan, field, turun, ikan, jual, koefisien, jawa, ikp, implementasi, importance, kip, kiddrock, indeks, jasa, ki, kena, jabat, individu, indonesia, khs, kerja, kenal, irawati, informasi, inovasi, instansi, instruktur, inti, kendala, koefisiensi, judgmental, internet, wawancara, gambar, kategori, karyawan, kartesius, website, gerak, fokus, guru, webqual, harap, kabupaten, fitur, ftabel, kecuali, kelola, hubung, volume, hj, kantor, hitung, kembang, kapuas, helm, karir, data, nilai, bebas, rupa, simpul, ambil, r, validitas, arti, kuesioner, sebar, analis, spss, versi, langsung, produk, sisa, reliabilitas, square, purposive, pakai, hasil, studi, filsafat, instrumen, positivisme, klasik, adjusted, asumsi, retailimg, landas, identifikasi, dianalisa, arifin, dealler, haryono, kunci, abstrak, sampling, accidental, ganda, dominan, populasi, linier, regresi, f, sampel, analisis, tuju, metode, teknik, parsial, bukti, laku, dasar, kualitas, daya, kuantitatif, dealer, ikat, bangkal, responden, pribadi, sosial, depot, dependen, fisik, empati, kehandalan, tanggap, barokah, prambon, simultan, hipotesis, retailing, kwanyar, mart, idola, signifikan, surya, motor, budaya, agung, jamin, independen, lokasi, atmosfer, gerai, promosi, mix, merchandise, y, psikologis, perilaku, merek, harga, layan, vario, honda, teliti, hadap, uji, x, puas, pengaruh, putus, beli, variabel, konsumen\n",
      "2 : lokasi, internet, inti, ratio, jamin, jasa, jawa, jual, putus, pustaka, purposive, kapuas, puas, kartesius, psikologis, kategori, kecuali, kehandalan, promosi, kena, profitabilitas, kendala, produk, khs, ki, kiddrock, instrumen, kip, reabilitas, inovasi, sampelpenelitianiniadalahmahasiswaangkatan, guru, mutu, rumus, harga, haryono, risk, risiko, riset, reza, retailing, honda, retailimg, identifikasi, idola, resiko, research, ikp, implementasi, importance, indeks, independen, rekomendasi, indonesia, informasi, reduction, klasik, prioritas, presepsi, pasar, loan, luas, lukis, lunak, pangsa, pamekasan, mahasiswa, maksimal, manfaat, pakai, mart, masuk, optik, online, merchandise, merek, omzet, minat, minimal, mix, observasi, npl, motor, nasabah, pd, likert, layan, pengolaha, prambon, komunikasi, positivisme, konsumen, portal, kota, krs, kualitas, kualitatif, kuantitaif, personal, persepsi, gerai, periodik, kumpul, perilaku, kwanyar, performing, performance, percaya, perangkat, lamongan, landas, langgan, lapang, lapor, perinci, sarana, saing, cranberries, transkrip, tinjau, beli, aksidental, biaya, timur, terima, bpr, brand, bri, buah, budaya, gambar, ter, temu, akademik, cacat, teknologi, teknis, tawar, conclusion, barokah, bantu, banking, bank, verification, vario, analysis, utm, utama, aplikasi, apresisasikan, volume, arifin, update, cranberriess, association, alat, alami, atmosfer, atribut, unggul, ulang, akurat, turun, wawancara, trunjoyo, asumsi, credit, aman, agung, cv, status, adjusted, drawing, skor, skala, situs, sistematis, empati, sistem, distro, accidental, selenggara, faktual, fenomena, fenomenologi, website, field, filsafat, fisik, fitur, fokus, webqual, display, dokumen, dimensi, dealler, survei, dependen, depot, desember, syarat, stratified, deskripsi, deskriptif, detail, administrasi, tanggap, daerah, diagram, dianalisa, studi, dikatagorikan, dealer, surya, langsung, spss, versi, ambil, lihat, random, olah, square, terap, mudah, observasional, satiyah, upaya, pengembnagan, ukur, tuntut, tingkah, thitung, probality, program, sumber, suasana, st, simple, sikap, sdm, partisipasi, terampil, a, mt, anugrahini, hj, aulia, b, kuisioner, beda, kondusif, analitik, individu, buyung, capai, instruktur, cipta, irawati, efektif, dukung, efisien, helm, dra, menganalisa, harap, mm, abidin, fairesecara, syah, anova, lai, dharma, autoritariansecara, sisa, moch, sertifikasi, primer, koefisiensi, muhammad, wispandono, judgmental, ms, beta, alkirom, wildan, rm, aththaariq, signifikansi, kuantitatif, sedia, validitas, teknik, tuju, proses, nyata, bidang, reliabilitas, sebar, sesuai, sampling, ftabel, orang, laku, m, aktif, bimbing, ubah, sifat, setia, bisnis, kelola, nasional, negara, mentor, optimalisasi, orgnisasional, paktek, listrik, sponsor, tumbuh, badan, gerak, sumbr, praktek, kenal, kuat, butuh, jabat, motivasi, linier, regresi, negeri, sipil, tekan, pns, usaha, dasar, non, sampel, kuesioner, salah, daya, f, kunci, dr, e, analis, arti, manusia, statistik, laksana, abstrak, responden, sosial, pribadi, populasi, instansi, seleksi, data, koefisien, positif, simpul, pegawaidikantor, tabel, autoritarian, faire, metode, universitas, trunojoyo, madura, ganda, fhitung, tingkat, kantor, determinasi, profesional, r, s, analisis, cabang, hasil, hitung, y, didik, laissez, kontribusi, hubung, dominan, rupa, simultan, pedagogik, ikat, camat, pangarengan, demokratis, bebas, bukti, laut, ikan, bangkal, parsial, signifikan, karir, karyawan, semangat, hipotesis, latih, sampang, kabupaten, dinas, faktor, milik, dosen, pln, produktivitas, kompensasi, tipe, teliti, nilai, hadap, prestasi, uji, kembang, pimpin, pengaruh, pegawai, kompetensi, x, variabel, kerja\n",
      "3 : a, performance, percaya, pengembnagan, pegawaidikantor, pegawai, pedagogik, pd, pasar, partisipasi, pangsa, pangarengan, paktek, orgnisasional, optimalisasi, optik, online, omzet, observasional, observasi, performing, nyata, perilaku, periodik, proses, promosi, program, profitabilitas, profesional, produktivitas, produk, probality, prioritas, primer, prestasi, prambon, praktek, positivisme, portal, pns, pln, pimpin, personal, perinci, npl, non, nilai, lukis, x, loan, listrik, lihat, laut, latih, lapor, langsung, landas, lamongan, laksana, laissez, lai, kwanyar, kuisioner, kuat, kuantitaif, kualitatif, m, madura, mahasiswa, maksimal, negeri, negara, nasional, mutu, muhammad, mt, ms, motor, motivasi, psikologis, moch, mix, minimal, milik, merchandise, mentor, menganalisa, masuk, mart, manusia, mm, kualitas, puas, r, tipe, tinjau, tingkat, tingkah, timur, thitung, terap, terampil, ter, temu, teknologi, teknis, tekan, tawar, tanggap, tabel, syarat, syah, surya, transkrip, sumbr, trunjoyo, tumbuh, wispandono, wildan, website, webqual, wawancara, volume, verification, vario, utm, utama, usaha, update, upaya, universitas, unggul, ukur, ubah, turun, tuntut, trunojoyo, sumber, suasana, stratified, sarana, sampelpenelitianiniadalahmahasiswaangkatan, sampang, salah, saing, s, rupa, rumus, rm, risk, risiko, reza, retailing, retailimg, resiko, reliabilitas, reduction, ratio, random, satiyah, sdm, sebar, seleksi, statistik, st, square, sponsor, skor, situs, sistematis, sistem, sisa, putus, sipil, simple, sikap, signifikansi, sifat, setia, sesuai, sertifikasi, semangat, selenggara, simpul, krs, lokasi, kontribusi, didik, dianalisa, diagram, dharma, determinasi, detail, deskripsi, depot, dependen, demokratis, dealler, dealer, daya, dasar, daerah, cv, credit, conclusion, cipta, dikatagorikan, dinas, display, dokumen, fokus, fisik, filsafat, fhitung, fenomenologi, fenomena, faktual, faktor, fairesecara, capai, faire, empati, efisien, efektif, e, dukung, drawing, dra, dosen, dominan, f, camat, cacat, cabang, arti, arifin, aplikasi, anugrahini, anova, analysis, analitik, analis, alkirom, asumsi, alat, akurat, aktif, akademik, agung, administrasi, adjusted, accidental, abstrak, abidin, alami, ftabel, aththaariq, atribut, buyung, butuh, bukti, budaya, buah, bpr, bisnis, bimbing, bidang, atmosfer, biaya, beli, beda, barokah, bank, badan, b, autoritariansecara, autoritarian, aulia, beta, gambar, dr, gerai, kantor, kabupaten, judgmental, jual, jasa, jabat, irawati, inti, kapuas, instrumen, instansi, inovasi, informasi, indonesia, individu, independen, indeks, importance, instruktur, implementasi, karir, karyawan, kondusif, komunikasi, kompetensi, kompensasi, koefisiensi, koefisien, klasik, kip, kartesius, ki, kerja, kendala, kenal, kena, kembang, kelola, kehandalan, kategori, khs, ikp, jawa, y, idola, harga, guru, gerak, ikan, hj, honda, hipotesis, helm, ikat, harap, haryono, hitung, hubung, laku, ganda, linier, regresi, kuantitatif, kunci, konsumen, deskriptif, kuesioner, bangkal, validitas, pribadi, sosial, spss, versi, positif, hasil, tuju, studi, luas, kumpul, olah, orang, purposive, analisis, lapang, perangkat, likert, riset, terima, reabilitas, field, presepsi, bantu, lunak, pustaka, research, cranberriess, pengolaha, skala, apresisasikan, status, rekomendasi, pamekasan, desember, aksidental, survei, simultan, uji, kota, parsial, responden, sampling, signifikan, hadap, populasi, bebas, pengaruh, ambil, sampel, teknik, jamin, merek, aman, manfaat, data, nasabah, kecuali, fitur, layan, identifikasi, metode, langgan, pakai, variabel, sedia, teliti, mudah, kiddrock, association, cranberries, brand, distro, bri, minat, ulang, banking, internet, dimensi, persepsi\n",
      "4 : a, performance, percaya, perangkat, pengolaha, pengembnagan, pegawaidikantor, pegawai, pedagogik, partisipasi, parsial, pangarengan, pamekasan, paktek, pakai, orgnisasional, orang, optimalisasi, online, olah, perilaku, persepsi, personal, pimpin, psikologis, proses, promosi, program, profesional, produktivitas, probality, prioritas, primer, observasional, pribadi, presepsi, prambon, praktek, positivisme, positif, portal, populasi, pns, pln, prestasi, nyata, nilai, negeri, madura, m, lunak, lukis, x, listrik, linier, likert, layan, mahasiswa, laut, lapang, langgan, landas, laksana, laissez, lai, kwanyar, kuisioner, kuesioner, latih, puas, manfaat, mart, negara, nasional, nasabah, mutu, muhammad, mudah, mt, ms, motor, manusia, motivasi, mm, mix, minat, milik, merek, merchandise, mentor, menganalisa, masuk, moch, kuat, purposive, putus, thitung, terima, terampil, ter, temu, teknologi, teknis, tekan, tanggap, tabel, syah, surya, survei, sumbr, sumber, suasana, studi, stratified, status, tingkah, tinjau, tipe, transkrip, wispandono, wildan, website, webqual, versi, vario, validitas, utm, utama, statistik, update, universitas, ulang, ukur, uji, ubah, tuntut, tumbuh, trunojoyo, trunjoyo, upaya, st, square, spss, satiyah, sampling, sampelpenelitianiniadalahmahasiswaangkatan, sampel, sampang, salah, s, rupa, rm, sdm, riset, retailimg, responden, research, reliabilitas, rekomendasi, regresi, reabilitas, random, r, retailing, pustaka, sebar, seleksi, sponsor, sosial, skor, skala, situs, sistematis, sistem, sisa, sipil, sedia, simultan, sikap, signifikansi, signifikan, sifat, setia, sesuai, sertifikasi, semangat, selenggara, simple, kuantitatif, lokasi, dra, didik, dianalisa, diagram, dharma, determinasi, detail, desember, depot, dependen, demokratis, dealler, dealer, daya, cranberriess, cranberries, cipta, capai, camat, cabang, dimensi, dinas, distro, dominan, ftabel, fokus, fitur, fisik, filsafat, field, fhitung, faktual, faktor, buyung, fairesecara, f, empati, efisien, efektif, e, dukung, kuantitaif, dr, dosen, faire, butuh, budaya, bri, apresisasikan, aplikasi, anugrahini, anova, analysis, analitik, analis, ambil, aman, arifin, alkirom, akurat, aktif, aksidental, akademik, agung, administrasi, adjusted, accidental, abidin, alat, ganda, arti, asumsi, brand, bisnis, bimbing, bidang, beta, beli, beda, bebas, barokah, association, bantu, bangkal, badan, b, autoritariansecara, autoritarian, aulia, atribut, atmosfer, aththaariq, banking, gerai, y, jamin, kiddrock, ki, khs, importance, kendala, indeks, kenal, kena, independen, kembang, kelola, kehandalan, kecuali, kategori, individu, karyawan, kartesius, karir, informasi, kantor, instansi, kabupaten, judgmental, jasa, instruktur, instrumen, gerak, internet, jabat, irawati, ikp, implementasi, klasik, krs, guru, harap, harga, haryono, kota, kontribusi, konsumen, helm, kip, kondusif, komunikasi, kompetensi, hipotesis, kompensasi, ikat, koefisien, koefisiensi, ikan, identifikasi, idola, hubung, honda, hj, variabel, metode, analisis, hadap, langsung, bukti, gambar, tuju, luas, kumpul, simpul, minimal, periodik, rumus, fenomena, abstrak, dasar, kualitatif, tawar, display, observasi, reduction, dokumen, drawing, timur, pangsa, omzet, fenomenologi, verification, volume, conclusion, buah, wawancara, teknik, non, kunci, hitung, laku, lihat, deskriptif, hasil, deskripsi, performing, dikatagorikan, loan, indonesia, syarat, maksimal, kerja, jual, terap, perinci, cv, sarana, kapuas, inti, pengaruh, jawa, usaha, data, credit, bpr, pd, ratio, risk, turun, reza, optik, teliti, daerah, risiko, pasar, kualitas, produk, alami, profitabilitas, cacat, lapor, bank, resiko, npl, inovasi, saing, unggul, lamongan, biaya, tingkat\n"
     ]
    }
   ],
   "source": [
    "kmeans = KMeans(n_clusters = 5, n_init = 20)\n",
    "kmeans.fit(X)\n",
    "common_words = kmeans.cluster_centers_.argsort()\n",
    "space = 0\n",
    "for num, centroid in enumerate(common_words):\n",
    "    print(str(num) + ' : ' + ', '.join(word_features[word] for word in centroid))"
   ]
  },
  {
   "cell_type": "markdown",
   "metadata": {
    "_cell_guid": "bff92434-ec9d-4e6b-a4a2-72ec4ea6f3bc",
    "_uuid": "7225da580975f8589615a8fd5232ba3c80780845"
   },
   "source": [
    "<h3> 10 Clusters</h3>\n",
    "<p>Sama seperti saat 5 cluster, akan tetapi disini membagi menjadi 10 cluster</p>"
   ]
  },
  {
   "cell_type": "code",
   "execution_count": 10,
   "metadata": {
    "_cell_guid": "4134a6d2-09aa-4cf5-9821-d95d0482c4ac",
    "_uuid": "cf3c5af56aa05f6679effe85774207fe824255a1"
   },
   "outputs": [
    {
     "name": "stdout",
     "output_type": "stream",
     "text": [
      "0 : akademik, puas, portal, langgan, indeks, informasi, webqual, performance, administrasi, importance\n",
      "1 : kompetensi, dosen, x, pedagogik, profesional, kerja, variabel, pengaruh, universitas, madura\n",
      "2 : variabel, x, pimpin, tipe, pegawai, kompensasi, pengaruh, puas, hadap, konsumen\n",
      "3 : inovasi, saing, unggul, pasar, reza, optik, lamongan, data, jawa, tingkat\n",
      "4 : biaya, lapor, profitabilitas, cacat, kualitas, risiko, produk, tingkat, pengaruh, usaha\n",
      "5 : persepsi, internet, banking, minat, ulang, bri, mudah, variabel, layan, kecuali\n",
      "6 : dimensi, distro, brand, cranberries, kiddrock, association, persepsi, pakai, langgan, data\n",
      "7 : beli, putus, konsumen, variabel, uji, vario, honda, pengaruh, harga, merek\n",
      "8 : resiko, npl, bank, turun, risk, ratio, pd, bpr, credit, tingkat\n",
      "9 : kembang, kerja, produktivitas, pln, faktor, latih, karyawan, semangat, karir, x\n"
     ]
    }
   ],
   "source": [
    "kmeans = KMeans(n_clusters = 10, n_init = 20)\n",
    "kmeans.fit(X)\n",
    "common_words = kmeans.cluster_centers_.argsort()[:,-1:-11:-1]\n",
    "#print(common_words)\n",
    "for num, centroid in enumerate(common_words):\n",
    "    print(str(num) + ' : ' + ', '.join(word_features[word] for word in centroid))"
   ]
  }
 ],
 "metadata": {
  "kernelspec": {
   "display_name": "Python 3",
   "language": "python",
   "name": "python3"
  },
  "language_info": {
   "codemirror_mode": {
    "name": "ipython",
    "version": 3
   },
   "file_extension": ".py",
   "mimetype": "text/x-python",
   "name": "python",
   "nbconvert_exporter": "python",
   "pygments_lexer": "ipython3",
   "version": "3.10.3"
  }
 },
 "nbformat": 4,
 "nbformat_minor": 1
}
