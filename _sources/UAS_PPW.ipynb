{
 "cells": [
  {
   "cell_type": "markdown",
   "id": "b67eed29",
   "metadata": {},
   "source": [
    "# Topic Modeling dengan LSA"
   ]
  },
  {
   "cell_type": "markdown",
   "id": "73926678",
   "metadata": {},
   "source": [
    "<h2>Import Library</h2>\n",
    "\n",
    "<p>Langkah pertama adalah melakukan import library yang dimana nantinya digunakan untuk membaca data mauapaun memanipulasi dan, untuk tahapan preprocessing, Tf-idf, maupun untuk LSA nya nanti.</p>"
   ]
  },
  {
   "cell_type": "code",
   "execution_count": 1,
   "id": "724deafe",
   "metadata": {},
   "outputs": [
    {
     "name": "stderr",
     "output_type": "stream",
     "text": [
      "[nltk_data] Downloading package punkt to\n",
      "[nltk_data]     C:\\Users\\Arlaz\\AppData\\Roaming\\nltk_data...\n",
      "[nltk_data]   Package punkt is already up-to-date!\n"
     ]
    }
   ],
   "source": [
    "# data visualisation and manipulation\n",
    "import numpy as np\n",
    "import pandas as pd\n",
    "import matplotlib.pyplot as plt\n",
    "from matplotlib import style\n",
    "import seaborn as sns\n",
    "#configure\n",
    "# sets matplotlib to inline and displays graphs below the corressponding cell.\n",
    "%matplotlib inline  \n",
    "style.use('fivethirtyeight')\n",
    "sns.set(style='whitegrid',color_codes=True)\n",
    "\n",
    "#import nltk\n",
    "import nltk\n",
    "from nltk.corpus import stopwords\n",
    "from nltk.tokenize import word_tokenize,sent_tokenize\n",
    "\n",
    "#preprocessing\n",
    "from nltk.corpus import stopwords  #stopwords\n",
    "from nltk import word_tokenize,sent_tokenize # tokenizing\n",
    "from nltk.stem import PorterStemmer,LancasterStemmer  # using the Porter Stemmer and Lancaster Stemmer and others\n",
    "from nltk.stem.snowball import SnowballStemmer\n",
    "from nltk.stem import WordNetLemmatizer  # lammatizer from WordNet\n",
    "nltk.download('punkt')\n",
    "\n",
    "# for named entity recognition (NER)\n",
    "from nltk import ne_chunk\n",
    "\n",
    "# vectorizers for creating the document-term-matrix (DTM)\n",
    "from sklearn.feature_extraction.text import TfidfVectorizer,CountVectorizer\n",
    "\n",
    "\n",
    "#stop-words\n",
    "stop_words=set(nltk.corpus.stopwords.words('indonesian'))"
   ]
  },
  {
   "cell_type": "markdown",
   "id": "282249e5",
   "metadata": {},
   "source": [
    "<h2>Membaca Dokumen</h2>\n",
    "\n",
    "<p>Setelahnya, proses yang dilakukan adalah membuka dokumen hasil Crawling yang telah dilakukan sebelumnya</p>"
   ]
  },
  {
   "cell_type": "code",
   "execution_count": 2,
   "id": "77d3fa0b",
   "metadata": {},
   "outputs": [],
   "source": [
    "df=pd.read_csv(r'hasil_abstrak.csv')"
   ]
  },
  {
   "cell_type": "markdown",
   "id": "f1015fe0",
   "metadata": {},
   "source": [
    "<p>Proses Selanjutnya adalah menampilkan file hasil crawling, dan dapat dilihat dibawah data hasil crawling berjumlah 15</p>"
   ]
  },
  {
   "cell_type": "code",
   "execution_count": 3,
   "id": "2b485343",
   "metadata": {},
   "outputs": [
    {
     "data": {
      "text/html": [
       "<div>\n",
       "<style scoped>\n",
       "    .dataframe tbody tr th:only-of-type {\n",
       "        vertical-align: middle;\n",
       "    }\n",
       "\n",
       "    .dataframe tbody tr th {\n",
       "        vertical-align: top;\n",
       "    }\n",
       "\n",
       "    .dataframe thead th {\n",
       "        text-align: right;\n",
       "    }\n",
       "</style>\n",
       "<table border=\"1\" class=\"dataframe\">\n",
       "  <thead>\n",
       "    <tr style=\"text-align: right;\">\n",
       "      <th></th>\n",
       "      <th>Judul</th>\n",
       "      <th>Abstrak</th>\n",
       "    </tr>\n",
       "  </thead>\n",
       "  <tbody>\n",
       "    <tr>\n",
       "      <th>0</th>\n",
       "      <td>PEMETAAN RISIKO TSUNAMI BERDASARKAN SKENARIO K...</td>\n",
       "      <td>ABSTRAK\\n\\nTsunami merupakan bencana yang dapa...</td>\n",
       "    </tr>\n",
       "    <tr>\n",
       "      <th>1</th>\n",
       "      <td>Sistem Rekomendasi Dalam Menentukan Posisi Dep...</td>\n",
       "      <td>Sepak bola adalah salah satu olahraga yang saa...</td>\n",
       "    </tr>\n",
       "    <tr>\n",
       "      <th>2</th>\n",
       "      <td>Pengembangan LKS Berbasis Keterampilan Generik...</td>\n",
       "      <td>Penelitian ini bertujuan untuk mengetahui kela...</td>\n",
       "    </tr>\n",
       "    <tr>\n",
       "      <th>3</th>\n",
       "      <td>ANALISIS MISKONSEPSI SISWA PADA MATERI KLASIFI...</td>\n",
       "      <td>Penelitian ini bertujuan untuk mengetahui pers...</td>\n",
       "    </tr>\n",
       "    <tr>\n",
       "      <th>4</th>\n",
       "      <td>Keberadaan Mikroplastik Pada Ikan Swanggi (Pri...</td>\n",
       "      <td>Mikroplastik merupakan sampah plastik yang men...</td>\n",
       "    </tr>\n",
       "    <tr>\n",
       "      <th>5</th>\n",
       "      <td>AN ANALYSIS OF PERSONAL PRONOUNS IN DONALD TRU...</td>\n",
       "      <td>ABSTRACT\\n\\nNafilatun Nasuha. 160511100005. An...</td>\n",
       "    </tr>\n",
       "    <tr>\n",
       "      <th>6</th>\n",
       "      <td>PERENCANAAN KEBIJAKAN PENGENDALIAN PERSEDIAA...</td>\n",
       "      <td>PT. Apie Indo Karunia merupakan suatu perusaha...</td>\n",
       "    </tr>\n",
       "    <tr>\n",
       "      <th>7</th>\n",
       "      <td>Kajian Pola Arus Permukaan dan Sebaran Konsent...</td>\n",
       "      <td>Pesisir Pantai Kenjeran merupakan kawasan yang...</td>\n",
       "    </tr>\n",
       "    <tr>\n",
       "      <th>8</th>\n",
       "      <td>TINJAUAN HUKUM ISLAM  TERHADAP BISNIS JASA TRA...</td>\n",
       "      <td>Perbedaan harga yang diterapkan pemilik jasa t...</td>\n",
       "    </tr>\n",
       "    <tr>\n",
       "      <th>9</th>\n",
       "      <td>Komunikasi Antar Blater dalam Tradisi Remoh se...</td>\n",
       "      <td>ABSTRAK\\n\\nRemoh blater diadakan untuk berkump...</td>\n",
       "    </tr>\n",
       "    <tr>\n",
       "      <th>10</th>\n",
       "      <td>PENGARUH SERTIFIKASI HALAL, BRAND DAN KUALITAS...</td>\n",
       "      <td>Penduduk Indonesia mayoritas beragama Islam de...</td>\n",
       "    </tr>\n",
       "    <tr>\n",
       "      <th>11</th>\n",
       "      <td>MULTI CRITERIA DECISION MAKING UNTUK MENENTUKA...</td>\n",
       "      <td>Perguruan Tinggi merupakan salah satu jenjang ...</td>\n",
       "    </tr>\n",
       "    <tr>\n",
       "      <th>12</th>\n",
       "      <td>ANALISIS FINANCIAL DISTRESS MENGGUNAKAN MODEL ...</td>\n",
       "      <td>?Financial Distress merupakan ketidakmampuan s...</td>\n",
       "    </tr>\n",
       "    <tr>\n",
       "      <th>13</th>\n",
       "      <td>Pengaruh IMC (Integrated Marketing Communicati...</td>\n",
       "      <td>ABSTRAK\\n\\n“Pengaruh IMC (Integrated Marketing...</td>\n",
       "    </tr>\n",
       "    <tr>\n",
       "      <th>14</th>\n",
       "      <td>KAJIAN STOK RAJUNGAN (Portunus Pelagicus) DI P...</td>\n",
       "      <td>Rajungan (Portunus pelagicus) merupakan komodi...</td>\n",
       "    </tr>\n",
       "  </tbody>\n",
       "</table>\n",
       "</div>"
      ],
      "text/plain": [
       "                                                Judul  \\\n",
       "0   PEMETAAN RISIKO TSUNAMI BERDASARKAN SKENARIO K...   \n",
       "1   Sistem Rekomendasi Dalam Menentukan Posisi Dep...   \n",
       "2   Pengembangan LKS Berbasis Keterampilan Generik...   \n",
       "3   ANALISIS MISKONSEPSI SISWA PADA MATERI KLASIFI...   \n",
       "4   Keberadaan Mikroplastik Pada Ikan Swanggi (Pri...   \n",
       "5   AN ANALYSIS OF PERSONAL PRONOUNS IN DONALD TRU...   \n",
       "6     PERENCANAAN KEBIJAKAN PENGENDALIAN PERSEDIAA...   \n",
       "7   Kajian Pola Arus Permukaan dan Sebaran Konsent...   \n",
       "8   TINJAUAN HUKUM ISLAM  TERHADAP BISNIS JASA TRA...   \n",
       "9   Komunikasi Antar Blater dalam Tradisi Remoh se...   \n",
       "10  PENGARUH SERTIFIKASI HALAL, BRAND DAN KUALITAS...   \n",
       "11  MULTI CRITERIA DECISION MAKING UNTUK MENENTUKA...   \n",
       "12  ANALISIS FINANCIAL DISTRESS MENGGUNAKAN MODEL ...   \n",
       "13  Pengaruh IMC (Integrated Marketing Communicati...   \n",
       "14  KAJIAN STOK RAJUNGAN (Portunus Pelagicus) DI P...   \n",
       "\n",
       "                                              Abstrak  \n",
       "0   ABSTRAK\\n\\nTsunami merupakan bencana yang dapa...  \n",
       "1   Sepak bola adalah salah satu olahraga yang saa...  \n",
       "2   Penelitian ini bertujuan untuk mengetahui kela...  \n",
       "3   Penelitian ini bertujuan untuk mengetahui pers...  \n",
       "4   Mikroplastik merupakan sampah plastik yang men...  \n",
       "5   ABSTRACT\\n\\nNafilatun Nasuha. 160511100005. An...  \n",
       "6   PT. Apie Indo Karunia merupakan suatu perusaha...  \n",
       "7   Pesisir Pantai Kenjeran merupakan kawasan yang...  \n",
       "8   Perbedaan harga yang diterapkan pemilik jasa t...  \n",
       "9   ABSTRAK\\n\\nRemoh blater diadakan untuk berkump...  \n",
       "10  Penduduk Indonesia mayoritas beragama Islam de...  \n",
       "11  Perguruan Tinggi merupakan salah satu jenjang ...  \n",
       "12  ?Financial Distress merupakan ketidakmampuan s...  \n",
       "13  ABSTRAK\\n\\n“Pengaruh IMC (Integrated Marketing...  \n",
       "14  Rajungan (Portunus pelagicus) merupakan komodi...  "
      ]
     },
     "execution_count": 3,
     "metadata": {},
     "output_type": "execute_result"
    }
   ],
   "source": [
    "df"
   ]
  },
  {
   "cell_type": "markdown",
   "id": "f58a9a7d",
   "metadata": {},
   "source": [
    "<p>Disini kita membuang kolom yang tidak dibutuhkan</p>"
   ]
  },
  {
   "cell_type": "code",
   "execution_count": 4,
   "id": "b33397bb",
   "metadata": {},
   "outputs": [],
   "source": [
    "df.drop(['Judul'],axis=1,inplace=True)"
   ]
  },
  {
   "cell_type": "code",
   "execution_count": 5,
   "id": "ffb34ed9",
   "metadata": {},
   "outputs": [
    {
     "data": {
      "text/html": [
       "<div>\n",
       "<style scoped>\n",
       "    .dataframe tbody tr th:only-of-type {\n",
       "        vertical-align: middle;\n",
       "    }\n",
       "\n",
       "    .dataframe tbody tr th {\n",
       "        vertical-align: top;\n",
       "    }\n",
       "\n",
       "    .dataframe thead th {\n",
       "        text-align: right;\n",
       "    }\n",
       "</style>\n",
       "<table border=\"1\" class=\"dataframe\">\n",
       "  <thead>\n",
       "    <tr style=\"text-align: right;\">\n",
       "      <th></th>\n",
       "      <th>Abstrak</th>\n",
       "    </tr>\n",
       "  </thead>\n",
       "  <tbody>\n",
       "    <tr>\n",
       "      <th>0</th>\n",
       "      <td>ABSTRAK\\n\\nTsunami merupakan bencana yang dapa...</td>\n",
       "    </tr>\n",
       "    <tr>\n",
       "      <th>1</th>\n",
       "      <td>Sepak bola adalah salah satu olahraga yang saa...</td>\n",
       "    </tr>\n",
       "    <tr>\n",
       "      <th>2</th>\n",
       "      <td>Penelitian ini bertujuan untuk mengetahui kela...</td>\n",
       "    </tr>\n",
       "    <tr>\n",
       "      <th>3</th>\n",
       "      <td>Penelitian ini bertujuan untuk mengetahui pers...</td>\n",
       "    </tr>\n",
       "    <tr>\n",
       "      <th>4</th>\n",
       "      <td>Mikroplastik merupakan sampah plastik yang men...</td>\n",
       "    </tr>\n",
       "    <tr>\n",
       "      <th>5</th>\n",
       "      <td>ABSTRACT\\n\\nNafilatun Nasuha. 160511100005. An...</td>\n",
       "    </tr>\n",
       "    <tr>\n",
       "      <th>6</th>\n",
       "      <td>PT. Apie Indo Karunia merupakan suatu perusaha...</td>\n",
       "    </tr>\n",
       "    <tr>\n",
       "      <th>7</th>\n",
       "      <td>Pesisir Pantai Kenjeran merupakan kawasan yang...</td>\n",
       "    </tr>\n",
       "    <tr>\n",
       "      <th>8</th>\n",
       "      <td>Perbedaan harga yang diterapkan pemilik jasa t...</td>\n",
       "    </tr>\n",
       "    <tr>\n",
       "      <th>9</th>\n",
       "      <td>ABSTRAK\\n\\nRemoh blater diadakan untuk berkump...</td>\n",
       "    </tr>\n",
       "    <tr>\n",
       "      <th>10</th>\n",
       "      <td>Penduduk Indonesia mayoritas beragama Islam de...</td>\n",
       "    </tr>\n",
       "    <tr>\n",
       "      <th>11</th>\n",
       "      <td>Perguruan Tinggi merupakan salah satu jenjang ...</td>\n",
       "    </tr>\n",
       "    <tr>\n",
       "      <th>12</th>\n",
       "      <td>?Financial Distress merupakan ketidakmampuan s...</td>\n",
       "    </tr>\n",
       "    <tr>\n",
       "      <th>13</th>\n",
       "      <td>ABSTRAK\\n\\n“Pengaruh IMC (Integrated Marketing...</td>\n",
       "    </tr>\n",
       "    <tr>\n",
       "      <th>14</th>\n",
       "      <td>Rajungan (Portunus pelagicus) merupakan komodi...</td>\n",
       "    </tr>\n",
       "  </tbody>\n",
       "</table>\n",
       "</div>"
      ],
      "text/plain": [
       "                                              Abstrak\n",
       "0   ABSTRAK\\n\\nTsunami merupakan bencana yang dapa...\n",
       "1   Sepak bola adalah salah satu olahraga yang saa...\n",
       "2   Penelitian ini bertujuan untuk mengetahui kela...\n",
       "3   Penelitian ini bertujuan untuk mengetahui pers...\n",
       "4   Mikroplastik merupakan sampah plastik yang men...\n",
       "5   ABSTRACT\\n\\nNafilatun Nasuha. 160511100005. An...\n",
       "6   PT. Apie Indo Karunia merupakan suatu perusaha...\n",
       "7   Pesisir Pantai Kenjeran merupakan kawasan yang...\n",
       "8   Perbedaan harga yang diterapkan pemilik jasa t...\n",
       "9   ABSTRAK\\n\\nRemoh blater diadakan untuk berkump...\n",
       "10  Penduduk Indonesia mayoritas beragama Islam de...\n",
       "11  Perguruan Tinggi merupakan salah satu jenjang ...\n",
       "12  ?Financial Distress merupakan ketidakmampuan s...\n",
       "13  ABSTRAK\\n\\n“Pengaruh IMC (Integrated Marketing...\n",
       "14  Rajungan (Portunus pelagicus) merupakan komodi..."
      ]
     },
     "execution_count": 5,
     "metadata": {},
     "output_type": "execute_result"
    }
   ],
   "source": [
    "df"
   ]
  },
  {
   "cell_type": "markdown",
   "id": "62e093d8",
   "metadata": {},
   "source": [
    "<h2>Proses Cleaning Data dan Preprocesing Data</h2>\n",
    "\n",
    "<p>Pada Proses ini tahap Preprocessing dilakukan dengan lemmatizer dan juga stopword.\n",
    "    Proses ini dilakukan agar hasil pemrosesan nantinya (tfidf) menjadi semakin akurat tanpa qdanya tanda baca maupun simbol simbol yang membuat hasilnya kurang akurat.\n",
    "</p>"
   ]
  },
  {
   "cell_type": "code",
   "execution_count": 6,
   "id": "fa3dae91",
   "metadata": {},
   "outputs": [],
   "source": [
    "def clean_text(headline):\n",
    "    le=WordNetLemmatizer()\n",
    "    word_tokens=word_tokenize(headline)\n",
    "    tokens=[le.lemmatize(w) for w in word_tokens if w not in stop_words and len(w)>3]\n",
    "    cleaned_text = \" \".join(tokens)\n",
    "    return cleaned_text"
   ]
  },
  {
   "cell_type": "code",
   "execution_count": 7,
   "id": "12deb4f7",
   "metadata": {},
   "outputs": [],
   "source": [
    "# time taking\n",
    "df['Abstrak_Cleaned']=df['Abstrak'].apply(clean_text)"
   ]
  },
  {
   "cell_type": "markdown",
   "id": "55b6d09f",
   "metadata": {},
   "source": [
    "<p>Disini terlihat bahwa abstrak setelah proses Preprocessing bahwa hal hal yang tidak diperlukan telah  dihilangkan</p>"
   ]
  },
  {
   "cell_type": "code",
   "execution_count": 8,
   "id": "b15dd74c",
   "metadata": {},
   "outputs": [
    {
     "data": {
      "text/html": [
       "<div>\n",
       "<style scoped>\n",
       "    .dataframe tbody tr th:only-of-type {\n",
       "        vertical-align: middle;\n",
       "    }\n",
       "\n",
       "    .dataframe tbody tr th {\n",
       "        vertical-align: top;\n",
       "    }\n",
       "\n",
       "    .dataframe thead th {\n",
       "        text-align: right;\n",
       "    }\n",
       "</style>\n",
       "<table border=\"1\" class=\"dataframe\">\n",
       "  <thead>\n",
       "    <tr style=\"text-align: right;\">\n",
       "      <th></th>\n",
       "      <th>Abstrak</th>\n",
       "      <th>Abstrak_Cleaned</th>\n",
       "    </tr>\n",
       "  </thead>\n",
       "  <tbody>\n",
       "    <tr>\n",
       "      <th>0</th>\n",
       "      <td>ABSTRAK\\n\\nTsunami merupakan bencana yang dapa...</td>\n",
       "      <td>ABSTRAK Tsunami bencana ancaman masyarakat wil...</td>\n",
       "    </tr>\n",
       "    <tr>\n",
       "      <th>1</th>\n",
       "      <td>Sepak bola adalah salah satu olahraga yang saa...</td>\n",
       "      <td>Sepak bola salah olahraga digemari remaja bela...</td>\n",
       "    </tr>\n",
       "    <tr>\n",
       "      <th>2</th>\n",
       "      <td>Penelitian ini bertujuan untuk mengetahui kela...</td>\n",
       "      <td>Penelitian bertujuan kelayakan keterbacaan res...</td>\n",
       "    </tr>\n",
       "    <tr>\n",
       "      <th>3</th>\n",
       "      <td>Penelitian ini bertujuan untuk mengetahui pers...</td>\n",
       "      <td>Penelitian bertujuan persentase miskonsepsi si...</td>\n",
       "    </tr>\n",
       "    <tr>\n",
       "      <th>4</th>\n",
       "      <td>Mikroplastik merupakan sampah plastik yang men...</td>\n",
       "      <td>Mikroplastik sampah plastik mengalami degradas...</td>\n",
       "    </tr>\n",
       "    <tr>\n",
       "      <th>5</th>\n",
       "      <td>ABSTRACT\\n\\nNafilatun Nasuha. 160511100005. An...</td>\n",
       "      <td>ABSTRACT Nafilatun Nasuha 160511100005 Analysi...</td>\n",
       "    </tr>\n",
       "    <tr>\n",
       "      <th>6</th>\n",
       "      <td>PT. Apie Indo Karunia merupakan suatu perusaha...</td>\n",
       "      <td>Apie Indo Karunia perusahaan bidang industri m...</td>\n",
       "    </tr>\n",
       "    <tr>\n",
       "      <th>7</th>\n",
       "      <td>Pesisir Pantai Kenjeran merupakan kawasan yang...</td>\n",
       "      <td>Pesisir Pantai Kenjeran kawasan potensi wisata...</td>\n",
       "    </tr>\n",
       "    <tr>\n",
       "      <th>8</th>\n",
       "      <td>Perbedaan harga yang diterapkan pemilik jasa t...</td>\n",
       "      <td>Perbedaan harga diterapkan pemilik jasa transp...</td>\n",
       "    </tr>\n",
       "    <tr>\n",
       "      <th>9</th>\n",
       "      <td>ABSTRAK\\n\\nRemoh blater diadakan untuk berkump...</td>\n",
       "      <td>ABSTRAK Remoh blater diadakan berkumpulnya bla...</td>\n",
       "    </tr>\n",
       "    <tr>\n",
       "      <th>10</th>\n",
       "      <td>Penduduk Indonesia mayoritas beragama Islam de...</td>\n",
       "      <td>Penduduk Indonesia mayoritas beragama Islam me...</td>\n",
       "    </tr>\n",
       "    <tr>\n",
       "      <th>11</th>\n",
       "      <td>Perguruan Tinggi merupakan salah satu jenjang ...</td>\n",
       "      <td>Perguruan Tinggi salah jenjang pendidikan Seko...</td>\n",
       "    </tr>\n",
       "    <tr>\n",
       "      <th>12</th>\n",
       "      <td>?Financial Distress merupakan ketidakmampuan s...</td>\n",
       "      <td>Financial Distress ketidakmampuan perusahaan m...</td>\n",
       "    </tr>\n",
       "    <tr>\n",
       "      <th>13</th>\n",
       "      <td>ABSTRAK\\n\\n“Pengaruh IMC (Integrated Marketing...</td>\n",
       "      <td>ABSTRAK Pengaruh Integrated Marketing Communic...</td>\n",
       "    </tr>\n",
       "    <tr>\n",
       "      <th>14</th>\n",
       "      <td>Rajungan (Portunus pelagicus) merupakan komodi...</td>\n",
       "      <td>Rajungan Portunus pelagicus komoditas nilai ek...</td>\n",
       "    </tr>\n",
       "  </tbody>\n",
       "</table>\n",
       "</div>"
      ],
      "text/plain": [
       "                                              Abstrak  \\\n",
       "0   ABSTRAK\\n\\nTsunami merupakan bencana yang dapa...   \n",
       "1   Sepak bola adalah salah satu olahraga yang saa...   \n",
       "2   Penelitian ini bertujuan untuk mengetahui kela...   \n",
       "3   Penelitian ini bertujuan untuk mengetahui pers...   \n",
       "4   Mikroplastik merupakan sampah plastik yang men...   \n",
       "5   ABSTRACT\\n\\nNafilatun Nasuha. 160511100005. An...   \n",
       "6   PT. Apie Indo Karunia merupakan suatu perusaha...   \n",
       "7   Pesisir Pantai Kenjeran merupakan kawasan yang...   \n",
       "8   Perbedaan harga yang diterapkan pemilik jasa t...   \n",
       "9   ABSTRAK\\n\\nRemoh blater diadakan untuk berkump...   \n",
       "10  Penduduk Indonesia mayoritas beragama Islam de...   \n",
       "11  Perguruan Tinggi merupakan salah satu jenjang ...   \n",
       "12  ?Financial Distress merupakan ketidakmampuan s...   \n",
       "13  ABSTRAK\\n\\n“Pengaruh IMC (Integrated Marketing...   \n",
       "14  Rajungan (Portunus pelagicus) merupakan komodi...   \n",
       "\n",
       "                                      Abstrak_Cleaned  \n",
       "0   ABSTRAK Tsunami bencana ancaman masyarakat wil...  \n",
       "1   Sepak bola salah olahraga digemari remaja bela...  \n",
       "2   Penelitian bertujuan kelayakan keterbacaan res...  \n",
       "3   Penelitian bertujuan persentase miskonsepsi si...  \n",
       "4   Mikroplastik sampah plastik mengalami degradas...  \n",
       "5   ABSTRACT Nafilatun Nasuha 160511100005 Analysi...  \n",
       "6   Apie Indo Karunia perusahaan bidang industri m...  \n",
       "7   Pesisir Pantai Kenjeran kawasan potensi wisata...  \n",
       "8   Perbedaan harga diterapkan pemilik jasa transp...  \n",
       "9   ABSTRAK Remoh blater diadakan berkumpulnya bla...  \n",
       "10  Penduduk Indonesia mayoritas beragama Islam me...  \n",
       "11  Perguruan Tinggi salah jenjang pendidikan Seko...  \n",
       "12  Financial Distress ketidakmampuan perusahaan m...  \n",
       "13  ABSTRAK Pengaruh Integrated Marketing Communic...  \n",
       "14  Rajungan Portunus pelagicus komoditas nilai ek...  "
      ]
     },
     "execution_count": 8,
     "metadata": {},
     "output_type": "execute_result"
    }
   ],
   "source": [
    "df"
   ]
  },
  {
   "cell_type": "markdown",
   "id": "801930c7",
   "metadata": {},
   "source": [
    "<p>Proses selanjutnya ialah menghilangkan kolom yang tidak digunakan</p>"
   ]
  },
  {
   "cell_type": "code",
   "execution_count": 9,
   "id": "9097d454",
   "metadata": {},
   "outputs": [],
   "source": [
    "df.drop(['Abstrak'],axis=1,inplace=True)"
   ]
  },
  {
   "cell_type": "code",
   "execution_count": 10,
   "id": "f24c66c4",
   "metadata": {},
   "outputs": [
    {
     "data": {
      "text/html": [
       "<div>\n",
       "<style scoped>\n",
       "    .dataframe tbody tr th:only-of-type {\n",
       "        vertical-align: middle;\n",
       "    }\n",
       "\n",
       "    .dataframe tbody tr th {\n",
       "        vertical-align: top;\n",
       "    }\n",
       "\n",
       "    .dataframe thead th {\n",
       "        text-align: right;\n",
       "    }\n",
       "</style>\n",
       "<table border=\"1\" class=\"dataframe\">\n",
       "  <thead>\n",
       "    <tr style=\"text-align: right;\">\n",
       "      <th></th>\n",
       "      <th>Abstrak_Cleaned</th>\n",
       "    </tr>\n",
       "  </thead>\n",
       "  <tbody>\n",
       "    <tr>\n",
       "      <th>0</th>\n",
       "      <td>ABSTRAK Tsunami bencana ancaman masyarakat wil...</td>\n",
       "    </tr>\n",
       "    <tr>\n",
       "      <th>1</th>\n",
       "      <td>Sepak bola salah olahraga digemari remaja bela...</td>\n",
       "    </tr>\n",
       "    <tr>\n",
       "      <th>2</th>\n",
       "      <td>Penelitian bertujuan kelayakan keterbacaan res...</td>\n",
       "    </tr>\n",
       "    <tr>\n",
       "      <th>3</th>\n",
       "      <td>Penelitian bertujuan persentase miskonsepsi si...</td>\n",
       "    </tr>\n",
       "    <tr>\n",
       "      <th>4</th>\n",
       "      <td>Mikroplastik sampah plastik mengalami degradas...</td>\n",
       "    </tr>\n",
       "    <tr>\n",
       "      <th>5</th>\n",
       "      <td>ABSTRACT Nafilatun Nasuha 160511100005 Analysi...</td>\n",
       "    </tr>\n",
       "    <tr>\n",
       "      <th>6</th>\n",
       "      <td>Apie Indo Karunia perusahaan bidang industri m...</td>\n",
       "    </tr>\n",
       "    <tr>\n",
       "      <th>7</th>\n",
       "      <td>Pesisir Pantai Kenjeran kawasan potensi wisata...</td>\n",
       "    </tr>\n",
       "    <tr>\n",
       "      <th>8</th>\n",
       "      <td>Perbedaan harga diterapkan pemilik jasa transp...</td>\n",
       "    </tr>\n",
       "    <tr>\n",
       "      <th>9</th>\n",
       "      <td>ABSTRAK Remoh blater diadakan berkumpulnya bla...</td>\n",
       "    </tr>\n",
       "    <tr>\n",
       "      <th>10</th>\n",
       "      <td>Penduduk Indonesia mayoritas beragama Islam me...</td>\n",
       "    </tr>\n",
       "    <tr>\n",
       "      <th>11</th>\n",
       "      <td>Perguruan Tinggi salah jenjang pendidikan Seko...</td>\n",
       "    </tr>\n",
       "    <tr>\n",
       "      <th>12</th>\n",
       "      <td>Financial Distress ketidakmampuan perusahaan m...</td>\n",
       "    </tr>\n",
       "    <tr>\n",
       "      <th>13</th>\n",
       "      <td>ABSTRAK Pengaruh Integrated Marketing Communic...</td>\n",
       "    </tr>\n",
       "    <tr>\n",
       "      <th>14</th>\n",
       "      <td>Rajungan Portunus pelagicus komoditas nilai ek...</td>\n",
       "    </tr>\n",
       "  </tbody>\n",
       "</table>\n",
       "</div>"
      ],
      "text/plain": [
       "                                      Abstrak_Cleaned\n",
       "0   ABSTRAK Tsunami bencana ancaman masyarakat wil...\n",
       "1   Sepak bola salah olahraga digemari remaja bela...\n",
       "2   Penelitian bertujuan kelayakan keterbacaan res...\n",
       "3   Penelitian bertujuan persentase miskonsepsi si...\n",
       "4   Mikroplastik sampah plastik mengalami degradas...\n",
       "5   ABSTRACT Nafilatun Nasuha 160511100005 Analysi...\n",
       "6   Apie Indo Karunia perusahaan bidang industri m...\n",
       "7   Pesisir Pantai Kenjeran kawasan potensi wisata...\n",
       "8   Perbedaan harga diterapkan pemilik jasa transp...\n",
       "9   ABSTRAK Remoh blater diadakan berkumpulnya bla...\n",
       "10  Penduduk Indonesia mayoritas beragama Islam me...\n",
       "11  Perguruan Tinggi salah jenjang pendidikan Seko...\n",
       "12  Financial Distress ketidakmampuan perusahaan m...\n",
       "13  ABSTRAK Pengaruh Integrated Marketing Communic...\n",
       "14  Rajungan Portunus pelagicus komoditas nilai ek..."
      ]
     },
     "execution_count": 10,
     "metadata": {},
     "output_type": "execute_result"
    }
   ],
   "source": [
    "df"
   ]
  },
  {
   "cell_type": "markdown",
   "id": "e53ae645",
   "metadata": {},
   "source": [
    "<h2>Tfidf</h2>\n",
    "\n",
    "<p>Pada prses ini dilakukan proses Tfidf</p>\n",
    "<p>Dalam TfidfVectorizer sendiri telah terset default untuk membuat semua huruf menjadi lowercase </p>\n",
    "</p>\n",
    "\n",
    "<p>Untuk rumus Tfidf sendiri adalah sebagai berikut</p>"
   ]
  },
  {
   "cell_type": "markdown",
   "id": "1988c0fd",
   "metadata": {},
   "source": [
    "$w_{i, j}=t f_{i, j} \\times \\log \\left(\\frac{N}{d f_{i}}\\right)$\n",
    "\n",
    "$\n",
    "\\begin{aligned}\n",
    "t f_{i, j} &=\\text { banyaknya kata- } i \\text { pada dokumen ke- } j \\\\\n",
    "N &=\\text { total dokumen } \\\\\n",
    "d f_{i} &=\\text { banyaknya dokumen yang mengandung kata ke- } i\n",
    "\\end{aligned}\n",
    "$"
   ]
  },
  {
   "cell_type": "code",
   "execution_count": 11,
   "id": "5163d195",
   "metadata": {},
   "outputs": [],
   "source": [
    "vect =TfidfVectorizer(stop_words=stop_words,max_features=1000) # to play with. min_df,max_df,max_features etc..."
   ]
  },
  {
   "cell_type": "code",
   "execution_count": 12,
   "id": "4886e1b7",
   "metadata": {},
   "outputs": [
    {
     "name": "stderr",
     "output_type": "stream",
     "text": [
      "C:\\Users\\Arlaz\\AppData\\Local\\Programs\\Python\\Python310\\lib\\site-packages\\sklearn\\feature_extraction\\text.py:396: UserWarning: Your stop_words may be inconsistent with your preprocessing. Tokenizing the stop words generated tokens ['baiknya', 'berkali', 'kali', 'kurangnya', 'mata', 'olah', 'sekurang', 'setidak', 'tama', 'tidaknya'] not in stop_words.\n",
      "  warnings.warn(\n"
     ]
    }
   ],
   "source": [
    "vect_text=vect.fit_transform(df['Abstrak_Cleaned'])"
   ]
  },
  {
   "cell_type": "markdown",
   "id": "01df8735",
   "metadata": {},
   "source": [
    "<p>Berikutnya disini adalah kita dapat melihat kata kata yang sering muncul atau disebut umum. </p>\n",
    "<p>Kata yang sering muncul akan memeiliki skor paling kecil dari pada kata yang lain</p>"
   ]
  },
  {
   "cell_type": "code",
   "execution_count": 13,
   "id": "b695fa2d",
   "metadata": {},
   "outputs": [
    {
     "name": "stdout",
     "output_type": "stream",
     "text": [
      "(15, 844)\n",
      "  (0, 405)\t0.018631972882534036\n",
      "  (0, 22)\t0.03642083100821103\n",
      "  (0, 45)\t0.031625358847996596\n",
      "  (0, 69)\t0.03642083100821103\n",
      "  (0, 25)\t0.031625358847996596\n",
      "  (0, 57)\t0.03642083100821103\n",
      "  (0, 66)\t0.03642083100821103\n",
      "  (0, 56)\t0.03642083100821103\n",
      "  (0, 23)\t0.031625358847996596\n",
      "  (0, 13)\t0.031625358847996596\n",
      "  (0, 71)\t0.03642083100821103\n",
      "  (0, 82)\t0.03642083100821103\n",
      "  (0, 77)\t0.03642083100821103\n",
      "  (0, 53)\t0.03642083100821103\n",
      "  (0, 6)\t0.07284166201642206\n",
      "  (0, 12)\t0.03642083100821103\n",
      "  (0, 81)\t0.03642083100821103\n",
      "  (0, 48)\t0.03642083100821103\n",
      "  (0, 5)\t0.03642083100821103\n",
      "  (0, 15)\t0.03642083100821103\n",
      "  (0, 1)\t0.03642083100821103\n",
      "  (0, 75)\t0.03642083100821103\n",
      "  (0, 59)\t0.03642083100821103\n",
      "  (0, 16)\t0.03642083100821103\n",
      "  (0, 685)\t0.158126794239983\n",
      "  :\t:\n",
      "  (14, 425)\t0.05273718780685194\n",
      "  (14, 525)\t0.05273718780685194\n",
      "  (14, 254)\t0.042662489122572284\n",
      "  (14, 18)\t0.05273718780685194\n",
      "  (14, 38)\t0.05273718780685194\n",
      "  (14, 52)\t0.05273718780685194\n",
      "  (14, 193)\t0.05273718780685194\n",
      "  (14, 802)\t0.04706341174320538\n",
      "  (14, 164)\t0.10547437561370387\n",
      "  (14, 324)\t0.10547437561370387\n",
      "  (14, 815)\t0.05273718780685194\n",
      "  (14, 307)\t0.05273718780685194\n",
      "  (14, 707)\t0.07813334703915271\n",
      "  (14, 35)\t0.05273718780685194\n",
      "  (14, 34)\t0.04706341174320538\n",
      "  (14, 200)\t0.09412682348641076\n",
      "  (14, 72)\t0.04706341174320538\n",
      "  (14, 449)\t0.05273718780685194\n",
      "  (14, 170)\t0.05273718780685194\n",
      "  (14, 528)\t0.03906667351957636\n",
      "  (14, 812)\t0.042662489122572284\n",
      "  (14, 25)\t0.05273718780685194\n",
      "  (14, 800)\t0.04706341174320538\n",
      "  (14, 584)\t0.06706782137711713\n",
      "  (14, 457)\t0.042662489122572284\n"
     ]
    }
   ],
   "source": [
    "print(vect_text.shape)\n",
    "print(vect_text)"
   ]
  },
  {
   "cell_type": "code",
   "execution_count": 14,
   "id": "72da04bf",
   "metadata": {},
   "outputs": [],
   "source": [
    "idf=vect.idf_"
   ]
  },
  {
   "cell_type": "markdown",
   "id": "ce5d46ef",
   "metadata": {},
   "source": [
    "<p>disini dapat dilihat bahwa penelitian merupakan kata yang sering muncul</p>"
   ]
  },
  {
   "cell_type": "code",
   "execution_count": 15,
   "id": "eabcf312",
   "metadata": {},
   "outputs": [
    {
     "name": "stdout",
     "output_type": "stream",
     "text": [
      "penelitian yusuf\n",
      "1.1335313926245225\n",
      "1.9808292530117262\n"
     ]
    },
    {
     "name": "stderr",
     "output_type": "stream",
     "text": [
      "C:\\Users\\Arlaz\\AppData\\Local\\Programs\\Python\\Python310\\lib\\site-packages\\sklearn\\utils\\deprecation.py:87: FutureWarning: Function get_feature_names is deprecated; get_feature_names is deprecated in 1.0 and will be removed in 1.2. Please use get_feature_names_out instead.\n",
      "  warnings.warn(msg, category=FutureWarning)\n"
     ]
    }
   ],
   "source": [
    "dd=dict(zip(vect.get_feature_names(), idf))\n",
    "l=sorted(dd, key=(dd).get)\n",
    "# print(l)\n",
    "print(l[0],l[-1])\n",
    "print(dd['penelitian'])\n",
    "print(dd['salah'])\n"
   ]
  },
  {
   "cell_type": "markdown",
   "id": "cc4b38e3",
   "metadata": {},
   "source": [
    "<h2>Latent Semantic Analysis atau LSA</h2>\n",
    "<p></p>\n",
    "<p>disini untuk pengimplementasian LSA dengan menggunakan SVD, juga  SVD digunakan untuk menguraikan hasil Tfisf yang telah dilakukan tadi.</p>\n",
    "\n",
    "<p>Untuk contoh SVD adalah sebagi berikut:</p>\n",
    "\n",
    "$$\n",
    "\\text { Misalkan } A=\\left(\\begin{array}{cc}\n",
    "1 & -1 \\\\\n",
    "0 & 1 \\\\\n",
    "1 & 0\n",
    "\\end{array}\\right)\n",
    "\\text { Tentukan Dekomposisi nilai singular A }\n",
    "$$"
   ]
  },
  {
   "cell_type": "markdown",
   "id": "10c4b18e",
   "metadata": {},
   "source": [
    "<p>Maka hasilnya akan seperti berikut:</p>\n",
    "\n",
    "$$\n",
    "A A^{\\prime}=\\left(\\begin{array}{cc}\n",
    "1 & -1 \\\\\n",
    "0 & 1 \\\\\n",
    "1 & 0\n",
    "\\end{array}\\right)\\left(\\begin{array}{ccc}\n",
    "1 & 0 & 1 \\\\\n",
    "-1 & 0 & 1\n",
    "\\end{array}\\right)=\\left(\\begin{array}{ccc}\n",
    "2 & -1 & 1 \\\\\n",
    "-1 & 1 & 0 \\\\\n",
    "1 & 0 & 1\n",
    "\\end{array}\\right)\n",
    "$$"
   ]
  },
  {
   "cell_type": "code",
   "execution_count": 16,
   "id": "fb3b78a4",
   "metadata": {},
   "outputs": [],
   "source": [
    "from sklearn.decomposition import TruncatedSVD\n",
    "lsa_model = TruncatedSVD(n_components=5, algorithm='randomized', n_iter=10, random_state=42)\n",
    "\n",
    "lsa_top=lsa_model.fit_transform(vect_text)"
   ]
  },
  {
   "cell_type": "code",
   "execution_count": 17,
   "id": "5a9d03ae",
   "metadata": {},
   "outputs": [
    {
     "name": "stdout",
     "output_type": "stream",
     "text": [
      "[[ 0.11994897 -0.01051296  0.08105641  0.11256692 -0.09064629]\n",
      " [ 0.20315669  0.01269914  0.02165167  0.58943444  0.42293177]\n",
      " [ 0.47379765  0.54541601 -0.20352067 -0.15122582 -0.12819496]\n",
      " [ 0.53782527  0.50770312 -0.13261083 -0.11246617 -0.18204632]\n",
      " [ 0.14584396 -0.01584323  0.54320179  0.02921427 -0.25947183]\n",
      " [ 0.03922425 -0.01276815  0.0125468  -0.03449408  0.06902527]\n",
      " [ 0.15690601  0.02741511  0.25184825 -0.38160175  0.59855325]\n",
      " [ 0.32610997 -0.16876551  0.21495245  0.20439047  0.02146743]\n",
      " [ 0.3578253  -0.51132219 -0.36859283 -0.09197588 -0.10353055]\n",
      " [ 0.184262   -0.08179551  0.15824047  0.08973053 -0.11198225]\n",
      " [ 0.42407548 -0.12954227  0.19051848 -0.09296513  0.08923824]\n",
      " [ 0.25963146  0.1166736  -0.14396138  0.52614111  0.24762563]\n",
      " [ 0.18891138 -0.07756675  0.09409916 -0.37717992  0.43035403]\n",
      " [ 0.41362869 -0.53656481 -0.26641661 -0.07638426 -0.12892666]\n",
      " [ 0.20980336 -0.09520383  0.55307148  0.05361682 -0.26028925]]\n",
      "(15, 5)\n"
     ]
    }
   ],
   "source": [
    "print(lsa_top)\n",
    "print(lsa_top.shape)"
   ]
  },
  {
   "cell_type": "code",
   "execution_count": 18,
   "id": "b1e34d31",
   "metadata": {},
   "outputs": [
    {
     "name": "stdout",
     "output_type": "stream",
     "text": [
      "Document 0 :\n",
      "Topic  0  :  11.994896585744918\n",
      "Topic  1  :  -1.051295898724832\n",
      "Topic  2  :  8.105641385249038\n",
      "Topic  3  :  11.256691836357984\n",
      "Topic  4  :  -9.06462909864445\n"
     ]
    }
   ],
   "source": [
    "l=lsa_top[0]\n",
    "print(\"Document 0 :\")\n",
    "for i,topic in enumerate(l):\n",
    "  print(\"Topic \",i,\" : \",topic*100)"
   ]
  },
  {
   "cell_type": "code",
   "execution_count": 19,
   "id": "507a4e64",
   "metadata": {},
   "outputs": [
    {
     "name": "stdout",
     "output_type": "stream",
     "text": [
      "(5, 844)\n",
      "[[ 0.01613924  0.00315833  0.01613924 ...  0.01627491  0.00220921\n",
      "   0.07782371]\n",
      " [-0.00574655 -0.00032266 -0.00574655 ... -0.02460854 -0.00083824\n",
      "  -0.1296257 ]\n",
      " [ 0.0093334   0.00274734  0.0093334  ... -0.01349374  0.00090966\n",
      "  -0.10319314]\n",
      " [-0.00471461  0.00394964 -0.00471461 ... -0.00400495 -0.00258888\n",
      "  -0.02665633]\n",
      " [ 0.00456259 -0.00320651  0.00456259 ... -0.00681509  0.0052229\n",
      "  -0.03025033]]\n"
     ]
    }
   ],
   "source": [
    "print(lsa_model.components_.shape) # (no_of_topics*no_of_words)\n",
    "print(lsa_model.components_)"
   ]
  },
  {
   "cell_type": "markdown",
   "id": "91689ce2",
   "metadata": {},
   "source": [
    "<p>Disini hanya terdapat 5 topic dikarenakan saat proses TruncatedSVD parameter untuk dimensi keluaran yang diinginkan hanya diisi 5.</p>"
   ]
  },
  {
   "cell_type": "code",
   "execution_count": 20,
   "id": "fe7bba87",
   "metadata": {},
   "outputs": [
    {
     "name": "stdout",
     "output_type": "stream",
     "text": [
      "Topic 0: \n",
      "siswa penelitian religi dinyatakan miskonsepsi produk wisata arus kualitas faktor \n",
      "\n",
      "Topic 1: \n",
      "siswa dinyatakan miskonsepsi generik kelayakan kerja keterampilan sains faktor layak \n",
      "\n",
      "Topic 2: \n",
      "rajungan ikan mikroplastik partikel swanggi sampel bentuk baku laju arus \n",
      "\n",
      "Topic 3: \n",
      "bola sepak mahasiswa pemain keputusan posisi kriteria perguruan snmptn arus \n",
      "\n",
      "Topic 4: \n",
      "baku bank bahan bola sepak pemain perusahaan stock mahasiswa syariah \n",
      "\n"
     ]
    }
   ],
   "source": [
    "# most important words for each topic\n",
    "vocab = vect.get_feature_names()\n",
    "\n",
    "for i, comp in enumerate(lsa_model.components_):\n",
    "    vocab_comp = zip(vocab, comp)\n",
    "    sorted_words = sorted(vocab_comp, key= lambda x:x[1], reverse=True)[:10]\n",
    "    print(\"Topic \"+str(i)+\": \")\n",
    "    for t in sorted_words:\n",
    "        print(t[0],end=\" \")\n",
    "    print(\"\\n\")"
   ]
  },
  {
   "cell_type": "code",
   "execution_count": null,
   "id": "bb811f5b",
   "metadata": {},
   "outputs": [],
   "source": []
  }
 ],
 "metadata": {
  "kernelspec": {
   "display_name": "Python 3",
   "language": "python",
   "name": "python3"
  },
  "language_info": {
   "codemirror_mode": {
    "name": "ipython",
    "version": 3
   },
   "file_extension": ".py",
   "mimetype": "text/x-python",
   "name": "python",
   "nbconvert_exporter": "python",
   "pygments_lexer": "ipython3",
   "version": "3.10.3"
  }
 },
 "nbformat": 4,
 "nbformat_minor": 5
}
