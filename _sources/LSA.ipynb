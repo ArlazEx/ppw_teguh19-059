{
 "cells": [
  {
   "cell_type": "markdown",
   "id": "fe046451",
   "metadata": {},
   "source": [
    "# Nomer 2 : Topic Modeling dengan LSA"
   ]
  },
  {
   "cell_type": "markdown",
   "id": "73926678",
   "metadata": {},
   "source": [
    "<h2>Import Library</h2>\n",
    "\n",
    "<p>Langkah pertama adalah melakukan import library yang dimana nantinya digunakan untuk membaca data mauapaun memanipulasi dan, untuk tahapan preprocessing, Tf-idf, maupun untuk LSA nya nanti.</p>"
   ]
  },
  {
   "cell_type": "code",
   "execution_count": 1,
   "id": "724deafe",
   "metadata": {},
   "outputs": [
    {
     "name": "stderr",
     "output_type": "stream",
     "text": [
      "[nltk_data] Downloading package punkt to\n",
      "[nltk_data]     C:\\Users\\Arlaz\\AppData\\Roaming\\nltk_data...\n",
      "[nltk_data]   Package punkt is already up-to-date!\n"
     ]
    }
   ],
   "source": [
    "# data visualisation and manipulation\n",
    "import numpy as np\n",
    "import pandas as pd\n",
    "import matplotlib.pyplot as plt\n",
    "from matplotlib import style\n",
    "import seaborn as sns\n",
    "#configure\n",
    "# sets matplotlib to inline and displays graphs below the corressponding cell.\n",
    "%matplotlib inline  \n",
    "style.use('fivethirtyeight')\n",
    "sns.set(style='whitegrid',color_codes=True)\n",
    "\n",
    "#import nltk\n",
    "import nltk\n",
    "from nltk.corpus import stopwords\n",
    "from nltk.tokenize import word_tokenize,sent_tokenize\n",
    "\n",
    "#preprocessing\n",
    "from nltk.corpus import stopwords  #stopwords\n",
    "from nltk import word_tokenize,sent_tokenize # tokenizing\n",
    "from nltk.stem import PorterStemmer,LancasterStemmer  # using the Porter Stemmer and Lancaster Stemmer and others\n",
    "from nltk.stem.snowball import SnowballStemmer\n",
    "from nltk.stem import WordNetLemmatizer  # lammatizer from WordNet\n",
    "nltk.download('punkt')\n",
    "\n",
    "# for named entity recognition (NER)\n",
    "from nltk import ne_chunk\n",
    "\n",
    "# vectorizers for creating the document-term-matrix (DTM)\n",
    "from sklearn.feature_extraction.text import TfidfVectorizer,CountVectorizer\n",
    "\n",
    "# SVD\n",
    "from sklearn.decomposition import TruncatedSVD\n",
    "\n",
    "#k means\n",
    "from sklearn.cluster import KMeans\n",
    "\n",
    "#stop-words\n",
    "stop_words=set(nltk.corpus.stopwords.words('indonesian'))"
   ]
  },
  {
   "cell_type": "markdown",
   "id": "282249e5",
   "metadata": {},
   "source": [
    "<h2>Membaca Dokumen</h2>\n",
    "\n",
    "<p>Setelahnya, proses yang dilakukan adalah membuka dokumen hasil Crawling yang telah dilakukan sebelumnya</p>"
   ]
  },
  {
   "cell_type": "code",
   "execution_count": 2,
   "id": "77d3fa0b",
   "metadata": {},
   "outputs": [],
   "source": [
    "df=pd.read_csv(r'hasil_crawling.csv')"
   ]
  },
  {
   "cell_type": "markdown",
   "id": "f1015fe0",
   "metadata": {},
   "source": [
    "<p>Proses Selanjutnya adalah menampilkan file hasil crawling, dan dapat dilihat dibawah data hasil crawling berjumlah 15</p>"
   ]
  },
  {
   "cell_type": "code",
   "execution_count": 3,
   "id": "2b485343",
   "metadata": {},
   "outputs": [
    {
     "data": {
      "text/html": [
       "<div>\n",
       "<style scoped>\n",
       "    .dataframe tbody tr th:only-of-type {\n",
       "        vertical-align: middle;\n",
       "    }\n",
       "\n",
       "    .dataframe tbody tr th {\n",
       "        vertical-align: top;\n",
       "    }\n",
       "\n",
       "    .dataframe thead th {\n",
       "        text-align: right;\n",
       "    }\n",
       "</style>\n",
       "<table border=\"1\" class=\"dataframe\">\n",
       "  <thead>\n",
       "    <tr style=\"text-align: right;\">\n",
       "      <th></th>\n",
       "      <th>Judul</th>\n",
       "      <th>Abstrak</th>\n",
       "    </tr>\n",
       "  </thead>\n",
       "  <tbody>\n",
       "    <tr>\n",
       "      <th>0</th>\n",
       "      <td>Pengaruh Retailing Mix terhadap Keputusan Pemb...</td>\n",
       "      <td>Tujuan penelitian ini adalah untuk mengetahui ...</td>\n",
       "    </tr>\n",
       "    <tr>\n",
       "      <th>1</th>\n",
       "      <td>PENGARUH PERSEPSI MANFAAT, PERSEPSI KEMUDAHAN,...</td>\n",
       "      <td>Tujuan penelitian ini adalah untuk mengidentif...</td>\n",
       "    </tr>\n",
       "    <tr>\n",
       "      <th>2</th>\n",
       "      <td>PELAPORAN BIAYA KUALITAS UNTUK MEMINIMALKAN TE...</td>\n",
       "      <td>ABSTRAK\\r\\n\\r\\nPenelitian ini mengungkapkan be...</td>\n",
       "    </tr>\n",
       "    <tr>\n",
       "      <th>3</th>\n",
       "      <td>PENGARUH KOMPETENSI DOSEN TERHADAP KINERJA DOS...</td>\n",
       "      <td>Abstrak\\r\\n\\r\\nAththaariq, Pengaruh Kompetensi...</td>\n",
       "    </tr>\n",
       "    <tr>\n",
       "      <th>4</th>\n",
       "      <td>PENGARUH PENGEMBANGAN KARIR TERHADAP SEMANGAT ...</td>\n",
       "      <td>PLN merupakan Badan Usaha Milik Negara yang be...</td>\n",
       "    </tr>\n",
       "    <tr>\n",
       "      <th>5</th>\n",
       "      <td>Analisis Inovasi Dan Keunggulan Bersaing \\r\\nD...</td>\n",
       "      <td>ABSTRAK\\r\\n\\tTujuan penelitian ini adalah mend...</td>\n",
       "    </tr>\n",
       "    <tr>\n",
       "      <th>6</th>\n",
       "      <td>PENGARUH TIPE KEPEMIMPINAN TERHADAP PRESTASI K...</td>\n",
       "      <td>ABSTRAK\\r\\n\\tDharma Abidin Syah,Kesimpulan: (1...</td>\n",
       "    </tr>\n",
       "    <tr>\n",
       "      <th>7</th>\n",
       "      <td>PENGARUH PERILAKU KONSUMEN TERHADAP KEPUTUSAN ...</td>\n",
       "      <td>ABSTRAK\\r\\nHaryono Arifin, Pengaruh Perilaku K...</td>\n",
       "    </tr>\n",
       "    <tr>\n",
       "      <th>8</th>\n",
       "      <td>PENGARUH DIMENSI KUALITAS PELAYANAN TERHADAP K...</td>\n",
       "      <td>ABSTRAK\\r\\n\\r\\nTujuan penelitian ini adalah un...</td>\n",
       "    </tr>\n",
       "    <tr>\n",
       "      <th>9</th>\n",
       "      <td>ANALISIS TINGKAT RISIKO KREDIT \\r\\nPADA PD. BP...</td>\n",
       "      <td>Hasil dari penelitian ini dari perhitungan Cre...</td>\n",
       "    </tr>\n",
       "    <tr>\n",
       "      <th>10</th>\n",
       "      <td>ANALISIS PERSEPSI BRAND ASSOCIATION MENURUT PE...</td>\n",
       "      <td>Tujuan penelitian ini adalah untuk mengetahui ...</td>\n",
       "    </tr>\n",
       "    <tr>\n",
       "      <th>11</th>\n",
       "      <td>PENGARUH FAKTOR-FAKTOR PELATIHAN DAN PENGEMBAN...</td>\n",
       "      <td>ABSTRAK\\r\\...</td>\n",
       "    </tr>\n",
       "    <tr>\n",
       "      <th>12</th>\n",
       "      <td>PENGARUH KEPEMIMPINAN DAN KOMPENSASI TERHADAP ...</td>\n",
       "      <td>Abstrak\\r\\nPenelitian ini menggunakan metode k...</td>\n",
       "    </tr>\n",
       "    <tr>\n",
       "      <th>13</th>\n",
       "      <td>Pengukuran Website Quality Pada Situs Sistem A...</td>\n",
       "      <td>Aplikasi nyata pemanfaatan teknologi informasi...</td>\n",
       "    </tr>\n",
       "    <tr>\n",
       "      <th>14</th>\n",
       "      <td>PENGARUH GAYA KEPEMIMPINAN DEMOKRATIK TERHADAP...</td>\n",
       "      <td>NaN</td>\n",
       "    </tr>\n",
       "  </tbody>\n",
       "</table>\n",
       "</div>"
      ],
      "text/plain": [
       "                                                Judul  \\\n",
       "0   Pengaruh Retailing Mix terhadap Keputusan Pemb...   \n",
       "1   PENGARUH PERSEPSI MANFAAT, PERSEPSI KEMUDAHAN,...   \n",
       "2   PELAPORAN BIAYA KUALITAS UNTUK MEMINIMALKAN TE...   \n",
       "3   PENGARUH KOMPETENSI DOSEN TERHADAP KINERJA DOS...   \n",
       "4   PENGARUH PENGEMBANGAN KARIR TERHADAP SEMANGAT ...   \n",
       "5   Analisis Inovasi Dan Keunggulan Bersaing \\r\\nD...   \n",
       "6   PENGARUH TIPE KEPEMIMPINAN TERHADAP PRESTASI K...   \n",
       "7   PENGARUH PERILAKU KONSUMEN TERHADAP KEPUTUSAN ...   \n",
       "8   PENGARUH DIMENSI KUALITAS PELAYANAN TERHADAP K...   \n",
       "9   ANALISIS TINGKAT RISIKO KREDIT \\r\\nPADA PD. BP...   \n",
       "10  ANALISIS PERSEPSI BRAND ASSOCIATION MENURUT PE...   \n",
       "11  PENGARUH FAKTOR-FAKTOR PELATIHAN DAN PENGEMBAN...   \n",
       "12  PENGARUH KEPEMIMPINAN DAN KOMPENSASI TERHADAP ...   \n",
       "13  Pengukuran Website Quality Pada Situs Sistem A...   \n",
       "14  PENGARUH GAYA KEPEMIMPINAN DEMOKRATIK TERHADAP...   \n",
       "\n",
       "                                              Abstrak  \n",
       "0   Tujuan penelitian ini adalah untuk mengetahui ...  \n",
       "1   Tujuan penelitian ini adalah untuk mengidentif...  \n",
       "2   ABSTRAK\\r\\n\\r\\nPenelitian ini mengungkapkan be...  \n",
       "3   Abstrak\\r\\n\\r\\nAththaariq, Pengaruh Kompetensi...  \n",
       "4   PLN merupakan Badan Usaha Milik Negara yang be...  \n",
       "5   ABSTRAK\\r\\n\\tTujuan penelitian ini adalah mend...  \n",
       "6   ABSTRAK\\r\\n\\tDharma Abidin Syah,Kesimpulan: (1...  \n",
       "7   ABSTRAK\\r\\nHaryono Arifin, Pengaruh Perilaku K...  \n",
       "8   ABSTRAK\\r\\n\\r\\nTujuan penelitian ini adalah un...  \n",
       "9   Hasil dari penelitian ini dari perhitungan Cre...  \n",
       "10  Tujuan penelitian ini adalah untuk mengetahui ...  \n",
       "11                                      ABSTRAK\\r\\...  \n",
       "12  Abstrak\\r\\nPenelitian ini menggunakan metode k...  \n",
       "13  Aplikasi nyata pemanfaatan teknologi informasi...  \n",
       "14                                                NaN  "
      ]
     },
     "execution_count": 3,
     "metadata": {},
     "output_type": "execute_result"
    }
   ],
   "source": [
    "df"
   ]
  },
  {
   "cell_type": "markdown",
   "id": "1f1922b8",
   "metadata": {},
   "source": [
    "<p>Dikarenakan pada data ke 15 atau index 14 data Abstraknya NaN atau kosong, maka disini data pada baris tersebut akan dihilangkan</p>"
   ]
  },
  {
   "cell_type": "code",
   "execution_count": 4,
   "id": "5c450ec4",
   "metadata": {},
   "outputs": [],
   "source": [
    "df.drop([14], axis=0, inplace=True)"
   ]
  },
  {
   "cell_type": "code",
   "execution_count": 5,
   "id": "80a657f8",
   "metadata": {},
   "outputs": [
    {
     "data": {
      "text/html": [
       "<div>\n",
       "<style scoped>\n",
       "    .dataframe tbody tr th:only-of-type {\n",
       "        vertical-align: middle;\n",
       "    }\n",
       "\n",
       "    .dataframe tbody tr th {\n",
       "        vertical-align: top;\n",
       "    }\n",
       "\n",
       "    .dataframe thead th {\n",
       "        text-align: right;\n",
       "    }\n",
       "</style>\n",
       "<table border=\"1\" class=\"dataframe\">\n",
       "  <thead>\n",
       "    <tr style=\"text-align: right;\">\n",
       "      <th></th>\n",
       "      <th>Judul</th>\n",
       "      <th>Abstrak</th>\n",
       "    </tr>\n",
       "  </thead>\n",
       "  <tbody>\n",
       "    <tr>\n",
       "      <th>0</th>\n",
       "      <td>Pengaruh Retailing Mix terhadap Keputusan Pemb...</td>\n",
       "      <td>Tujuan penelitian ini adalah untuk mengetahui ...</td>\n",
       "    </tr>\n",
       "    <tr>\n",
       "      <th>1</th>\n",
       "      <td>PENGARUH PERSEPSI MANFAAT, PERSEPSI KEMUDAHAN,...</td>\n",
       "      <td>Tujuan penelitian ini adalah untuk mengidentif...</td>\n",
       "    </tr>\n",
       "    <tr>\n",
       "      <th>2</th>\n",
       "      <td>PELAPORAN BIAYA KUALITAS UNTUK MEMINIMALKAN TE...</td>\n",
       "      <td>ABSTRAK\\r\\n\\r\\nPenelitian ini mengungkapkan be...</td>\n",
       "    </tr>\n",
       "    <tr>\n",
       "      <th>3</th>\n",
       "      <td>PENGARUH KOMPETENSI DOSEN TERHADAP KINERJA DOS...</td>\n",
       "      <td>Abstrak\\r\\n\\r\\nAththaariq, Pengaruh Kompetensi...</td>\n",
       "    </tr>\n",
       "    <tr>\n",
       "      <th>4</th>\n",
       "      <td>PENGARUH PENGEMBANGAN KARIR TERHADAP SEMANGAT ...</td>\n",
       "      <td>PLN merupakan Badan Usaha Milik Negara yang be...</td>\n",
       "    </tr>\n",
       "    <tr>\n",
       "      <th>5</th>\n",
       "      <td>Analisis Inovasi Dan Keunggulan Bersaing \\r\\nD...</td>\n",
       "      <td>ABSTRAK\\r\\n\\tTujuan penelitian ini adalah mend...</td>\n",
       "    </tr>\n",
       "    <tr>\n",
       "      <th>6</th>\n",
       "      <td>PENGARUH TIPE KEPEMIMPINAN TERHADAP PRESTASI K...</td>\n",
       "      <td>ABSTRAK\\r\\n\\tDharma Abidin Syah,Kesimpulan: (1...</td>\n",
       "    </tr>\n",
       "    <tr>\n",
       "      <th>7</th>\n",
       "      <td>PENGARUH PERILAKU KONSUMEN TERHADAP KEPUTUSAN ...</td>\n",
       "      <td>ABSTRAK\\r\\nHaryono Arifin, Pengaruh Perilaku K...</td>\n",
       "    </tr>\n",
       "    <tr>\n",
       "      <th>8</th>\n",
       "      <td>PENGARUH DIMENSI KUALITAS PELAYANAN TERHADAP K...</td>\n",
       "      <td>ABSTRAK\\r\\n\\r\\nTujuan penelitian ini adalah un...</td>\n",
       "    </tr>\n",
       "    <tr>\n",
       "      <th>9</th>\n",
       "      <td>ANALISIS TINGKAT RISIKO KREDIT \\r\\nPADA PD. BP...</td>\n",
       "      <td>Hasil dari penelitian ini dari perhitungan Cre...</td>\n",
       "    </tr>\n",
       "    <tr>\n",
       "      <th>10</th>\n",
       "      <td>ANALISIS PERSEPSI BRAND ASSOCIATION MENURUT PE...</td>\n",
       "      <td>Tujuan penelitian ini adalah untuk mengetahui ...</td>\n",
       "    </tr>\n",
       "    <tr>\n",
       "      <th>11</th>\n",
       "      <td>PENGARUH FAKTOR-FAKTOR PELATIHAN DAN PENGEMBAN...</td>\n",
       "      <td>ABSTRAK\\r\\...</td>\n",
       "    </tr>\n",
       "    <tr>\n",
       "      <th>12</th>\n",
       "      <td>PENGARUH KEPEMIMPINAN DAN KOMPENSASI TERHADAP ...</td>\n",
       "      <td>Abstrak\\r\\nPenelitian ini menggunakan metode k...</td>\n",
       "    </tr>\n",
       "    <tr>\n",
       "      <th>13</th>\n",
       "      <td>Pengukuran Website Quality Pada Situs Sistem A...</td>\n",
       "      <td>Aplikasi nyata pemanfaatan teknologi informasi...</td>\n",
       "    </tr>\n",
       "  </tbody>\n",
       "</table>\n",
       "</div>"
      ],
      "text/plain": [
       "                                                Judul  \\\n",
       "0   Pengaruh Retailing Mix terhadap Keputusan Pemb...   \n",
       "1   PENGARUH PERSEPSI MANFAAT, PERSEPSI KEMUDAHAN,...   \n",
       "2   PELAPORAN BIAYA KUALITAS UNTUK MEMINIMALKAN TE...   \n",
       "3   PENGARUH KOMPETENSI DOSEN TERHADAP KINERJA DOS...   \n",
       "4   PENGARUH PENGEMBANGAN KARIR TERHADAP SEMANGAT ...   \n",
       "5   Analisis Inovasi Dan Keunggulan Bersaing \\r\\nD...   \n",
       "6   PENGARUH TIPE KEPEMIMPINAN TERHADAP PRESTASI K...   \n",
       "7   PENGARUH PERILAKU KONSUMEN TERHADAP KEPUTUSAN ...   \n",
       "8   PENGARUH DIMENSI KUALITAS PELAYANAN TERHADAP K...   \n",
       "9   ANALISIS TINGKAT RISIKO KREDIT \\r\\nPADA PD. BP...   \n",
       "10  ANALISIS PERSEPSI BRAND ASSOCIATION MENURUT PE...   \n",
       "11  PENGARUH FAKTOR-FAKTOR PELATIHAN DAN PENGEMBAN...   \n",
       "12  PENGARUH KEPEMIMPINAN DAN KOMPENSASI TERHADAP ...   \n",
       "13  Pengukuran Website Quality Pada Situs Sistem A...   \n",
       "\n",
       "                                              Abstrak  \n",
       "0   Tujuan penelitian ini adalah untuk mengetahui ...  \n",
       "1   Tujuan penelitian ini adalah untuk mengidentif...  \n",
       "2   ABSTRAK\\r\\n\\r\\nPenelitian ini mengungkapkan be...  \n",
       "3   Abstrak\\r\\n\\r\\nAththaariq, Pengaruh Kompetensi...  \n",
       "4   PLN merupakan Badan Usaha Milik Negara yang be...  \n",
       "5   ABSTRAK\\r\\n\\tTujuan penelitian ini adalah mend...  \n",
       "6   ABSTRAK\\r\\n\\tDharma Abidin Syah,Kesimpulan: (1...  \n",
       "7   ABSTRAK\\r\\nHaryono Arifin, Pengaruh Perilaku K...  \n",
       "8   ABSTRAK\\r\\n\\r\\nTujuan penelitian ini adalah un...  \n",
       "9   Hasil dari penelitian ini dari perhitungan Cre...  \n",
       "10  Tujuan penelitian ini adalah untuk mengetahui ...  \n",
       "11                                      ABSTRAK\\r\\...  \n",
       "12  Abstrak\\r\\nPenelitian ini menggunakan metode k...  \n",
       "13  Aplikasi nyata pemanfaatan teknologi informasi...  "
      ]
     },
     "execution_count": 5,
     "metadata": {},
     "output_type": "execute_result"
    }
   ],
   "source": [
    "df"
   ]
  },
  {
   "cell_type": "markdown",
   "id": "f58a9a7d",
   "metadata": {},
   "source": [
    "<p>Disini kita membuang kolom yang tidak dibutuhkan yaitu disini adalah kolom judul</p>"
   ]
  },
  {
   "cell_type": "code",
   "execution_count": 6,
   "id": "b33397bb",
   "metadata": {},
   "outputs": [],
   "source": [
    "df.drop(['Judul'],axis=1,inplace=True)"
   ]
  },
  {
   "cell_type": "code",
   "execution_count": 7,
   "id": "ffb34ed9",
   "metadata": {},
   "outputs": [
    {
     "data": {
      "text/html": [
       "<div>\n",
       "<style scoped>\n",
       "    .dataframe tbody tr th:only-of-type {\n",
       "        vertical-align: middle;\n",
       "    }\n",
       "\n",
       "    .dataframe tbody tr th {\n",
       "        vertical-align: top;\n",
       "    }\n",
       "\n",
       "    .dataframe thead th {\n",
       "        text-align: right;\n",
       "    }\n",
       "</style>\n",
       "<table border=\"1\" class=\"dataframe\">\n",
       "  <thead>\n",
       "    <tr style=\"text-align: right;\">\n",
       "      <th></th>\n",
       "      <th>Abstrak</th>\n",
       "    </tr>\n",
       "  </thead>\n",
       "  <tbody>\n",
       "    <tr>\n",
       "      <th>0</th>\n",
       "      <td>Tujuan penelitian ini adalah untuk mengetahui ...</td>\n",
       "    </tr>\n",
       "    <tr>\n",
       "      <th>1</th>\n",
       "      <td>Tujuan penelitian ini adalah untuk mengidentif...</td>\n",
       "    </tr>\n",
       "    <tr>\n",
       "      <th>2</th>\n",
       "      <td>ABSTRAK\\r\\n\\r\\nPenelitian ini mengungkapkan be...</td>\n",
       "    </tr>\n",
       "    <tr>\n",
       "      <th>3</th>\n",
       "      <td>Abstrak\\r\\n\\r\\nAththaariq, Pengaruh Kompetensi...</td>\n",
       "    </tr>\n",
       "    <tr>\n",
       "      <th>4</th>\n",
       "      <td>PLN merupakan Badan Usaha Milik Negara yang be...</td>\n",
       "    </tr>\n",
       "    <tr>\n",
       "      <th>5</th>\n",
       "      <td>ABSTRAK\\r\\n\\tTujuan penelitian ini adalah mend...</td>\n",
       "    </tr>\n",
       "    <tr>\n",
       "      <th>6</th>\n",
       "      <td>ABSTRAK\\r\\n\\tDharma Abidin Syah,Kesimpulan: (1...</td>\n",
       "    </tr>\n",
       "    <tr>\n",
       "      <th>7</th>\n",
       "      <td>ABSTRAK\\r\\nHaryono Arifin, Pengaruh Perilaku K...</td>\n",
       "    </tr>\n",
       "    <tr>\n",
       "      <th>8</th>\n",
       "      <td>ABSTRAK\\r\\n\\r\\nTujuan penelitian ini adalah un...</td>\n",
       "    </tr>\n",
       "    <tr>\n",
       "      <th>9</th>\n",
       "      <td>Hasil dari penelitian ini dari perhitungan Cre...</td>\n",
       "    </tr>\n",
       "    <tr>\n",
       "      <th>10</th>\n",
       "      <td>Tujuan penelitian ini adalah untuk mengetahui ...</td>\n",
       "    </tr>\n",
       "    <tr>\n",
       "      <th>11</th>\n",
       "      <td>ABSTRAK\\r\\...</td>\n",
       "    </tr>\n",
       "    <tr>\n",
       "      <th>12</th>\n",
       "      <td>Abstrak\\r\\nPenelitian ini menggunakan metode k...</td>\n",
       "    </tr>\n",
       "    <tr>\n",
       "      <th>13</th>\n",
       "      <td>Aplikasi nyata pemanfaatan teknologi informasi...</td>\n",
       "    </tr>\n",
       "  </tbody>\n",
       "</table>\n",
       "</div>"
      ],
      "text/plain": [
       "                                              Abstrak\n",
       "0   Tujuan penelitian ini adalah untuk mengetahui ...\n",
       "1   Tujuan penelitian ini adalah untuk mengidentif...\n",
       "2   ABSTRAK\\r\\n\\r\\nPenelitian ini mengungkapkan be...\n",
       "3   Abstrak\\r\\n\\r\\nAththaariq, Pengaruh Kompetensi...\n",
       "4   PLN merupakan Badan Usaha Milik Negara yang be...\n",
       "5   ABSTRAK\\r\\n\\tTujuan penelitian ini adalah mend...\n",
       "6   ABSTRAK\\r\\n\\tDharma Abidin Syah,Kesimpulan: (1...\n",
       "7   ABSTRAK\\r\\nHaryono Arifin, Pengaruh Perilaku K...\n",
       "8   ABSTRAK\\r\\n\\r\\nTujuan penelitian ini adalah un...\n",
       "9   Hasil dari penelitian ini dari perhitungan Cre...\n",
       "10  Tujuan penelitian ini adalah untuk mengetahui ...\n",
       "11                                      ABSTRAK\\r\\...\n",
       "12  Abstrak\\r\\nPenelitian ini menggunakan metode k...\n",
       "13  Aplikasi nyata pemanfaatan teknologi informasi..."
      ]
     },
     "execution_count": 7,
     "metadata": {},
     "output_type": "execute_result"
    }
   ],
   "source": [
    "df"
   ]
  },
  {
   "cell_type": "markdown",
   "id": "62e093d8",
   "metadata": {},
   "source": [
    "<h2>Preprocesing Data</h2>\n",
    "\n",
    "<p>Pada Proses ini tahap Preprocessing dilakukan dengan lemmatizer dan juga stopword.\n",
    "    Proses ini dilakukan untuk menghilangkan tanda baca maupun simbol simbol yang tidak diperlukan.\n",
    "</p>"
   ]
  },
  {
   "cell_type": "code",
   "execution_count": 8,
   "id": "fa3dae91",
   "metadata": {},
   "outputs": [],
   "source": [
    "def clean_text(text):\n",
    "    le=WordNetLemmatizer()\n",
    "    word_tokens=word_tokenize(text)\n",
    "    tokens=[le.lemmatize(w) for w in word_tokens if w not in stop_words and len(w)>3]\n",
    "    cleaned_text = \" \".join(tokens)\n",
    "    return cleaned_text"
   ]
  },
  {
   "cell_type": "code",
   "execution_count": 9,
   "id": "12deb4f7",
   "metadata": {},
   "outputs": [],
   "source": [
    "# time taking\n",
    "df['Abstrak_Cleaned']=df['Abstrak'].apply(clean_text)"
   ]
  },
  {
   "cell_type": "markdown",
   "id": "55b6d09f",
   "metadata": {},
   "source": [
    "<p>Disini terlihat bahwa abstrak setelah proses Preprocessing bahwa hal hal yang tidak diperlukan telah  dihilangkan</p>"
   ]
  },
  {
   "cell_type": "code",
   "execution_count": 10,
   "id": "b15dd74c",
   "metadata": {},
   "outputs": [
    {
     "data": {
      "text/html": [
       "<div>\n",
       "<style scoped>\n",
       "    .dataframe tbody tr th:only-of-type {\n",
       "        vertical-align: middle;\n",
       "    }\n",
       "\n",
       "    .dataframe tbody tr th {\n",
       "        vertical-align: top;\n",
       "    }\n",
       "\n",
       "    .dataframe thead th {\n",
       "        text-align: right;\n",
       "    }\n",
       "</style>\n",
       "<table border=\"1\" class=\"dataframe\">\n",
       "  <thead>\n",
       "    <tr style=\"text-align: right;\">\n",
       "      <th></th>\n",
       "      <th>Abstrak</th>\n",
       "      <th>Abstrak_Cleaned</th>\n",
       "    </tr>\n",
       "  </thead>\n",
       "  <tbody>\n",
       "    <tr>\n",
       "      <th>0</th>\n",
       "      <td>Tujuan penelitian ini adalah untuk mengetahui ...</td>\n",
       "      <td>Tujuan penelitian pengaruh variabel Retailing ...</td>\n",
       "    </tr>\n",
       "    <tr>\n",
       "      <th>1</th>\n",
       "      <td>Tujuan penelitian ini adalah untuk mengidentif...</td>\n",
       "      <td>Tujuan penelitian mengidentifikasi variabel-va...</td>\n",
       "    </tr>\n",
       "    <tr>\n",
       "      <th>2</th>\n",
       "      <td>ABSTRAK\\r\\n\\r\\nPenelitian ini mengungkapkan be...</td>\n",
       "      <td>ABSTRAK Penelitian rumusan pelaporan biaya kua...</td>\n",
       "    </tr>\n",
       "    <tr>\n",
       "      <th>3</th>\n",
       "      <td>Abstrak\\r\\n\\r\\nAththaariq, Pengaruh Kompetensi...</td>\n",
       "      <td>Abstrak Aththaariq Pengaruh Kompetensi Dosen T...</td>\n",
       "    </tr>\n",
       "    <tr>\n",
       "      <th>4</th>\n",
       "      <td>PLN merupakan Badan Usaha Milik Negara yang be...</td>\n",
       "      <td>Badan Usaha Milik Negara bergerak bidang penye...</td>\n",
       "    </tr>\n",
       "    <tr>\n",
       "      <th>5</th>\n",
       "      <td>ABSTRAK\\r\\n\\tTujuan penelitian ini adalah mend...</td>\n",
       "      <td>ABSTRAK Tujuan penelitian mendeskripsikan inov...</td>\n",
       "    </tr>\n",
       "    <tr>\n",
       "      <th>6</th>\n",
       "      <td>ABSTRAK\\r\\n\\tDharma Abidin Syah,Kesimpulan: (1...</td>\n",
       "      <td>ABSTRAK Dharma Abidin Syah Kesimpulan Terdapat...</td>\n",
       "    </tr>\n",
       "    <tr>\n",
       "      <th>7</th>\n",
       "      <td>ABSTRAK\\r\\nHaryono Arifin, Pengaruh Perilaku K...</td>\n",
       "      <td>ABSTRAK Haryono Arifin Pengaruh Perilaku Konsu...</td>\n",
       "    </tr>\n",
       "    <tr>\n",
       "      <th>8</th>\n",
       "      <td>ABSTRAK\\r\\n\\r\\nTujuan penelitian ini adalah un...</td>\n",
       "      <td>ABSTRAK Tujuan penelitian mengidentifikasi var...</td>\n",
       "    </tr>\n",
       "    <tr>\n",
       "      <th>9</th>\n",
       "      <td>Hasil dari penelitian ini dari perhitungan Cre...</td>\n",
       "      <td>Hasil penelitian perhitungan Credit Risk Ratio...</td>\n",
       "    </tr>\n",
       "    <tr>\n",
       "      <th>10</th>\n",
       "      <td>Tujuan penelitian ini adalah untuk mengetahui ...</td>\n",
       "      <td>Tujuan penelitian persepsi brand association p...</td>\n",
       "    </tr>\n",
       "    <tr>\n",
       "      <th>11</th>\n",
       "      <td>ABSTRAK\\r\\...</td>\n",
       "      <td>ABSTRAK Satiyah Pengaruh Faktor-faktor Pelatih...</td>\n",
       "    </tr>\n",
       "    <tr>\n",
       "      <th>12</th>\n",
       "      <td>Abstrak\\r\\nPenelitian ini menggunakan metode k...</td>\n",
       "      <td>Abstrak Penelitian metode kuantitatif menekank...</td>\n",
       "    </tr>\n",
       "    <tr>\n",
       "      <th>13</th>\n",
       "      <td>Aplikasi nyata pemanfaatan teknologi informasi...</td>\n",
       "      <td>Aplikasi nyata pemanfaatan teknologi informasi...</td>\n",
       "    </tr>\n",
       "  </tbody>\n",
       "</table>\n",
       "</div>"
      ],
      "text/plain": [
       "                                              Abstrak  \\\n",
       "0   Tujuan penelitian ini adalah untuk mengetahui ...   \n",
       "1   Tujuan penelitian ini adalah untuk mengidentif...   \n",
       "2   ABSTRAK\\r\\n\\r\\nPenelitian ini mengungkapkan be...   \n",
       "3   Abstrak\\r\\n\\r\\nAththaariq, Pengaruh Kompetensi...   \n",
       "4   PLN merupakan Badan Usaha Milik Negara yang be...   \n",
       "5   ABSTRAK\\r\\n\\tTujuan penelitian ini adalah mend...   \n",
       "6   ABSTRAK\\r\\n\\tDharma Abidin Syah,Kesimpulan: (1...   \n",
       "7   ABSTRAK\\r\\nHaryono Arifin, Pengaruh Perilaku K...   \n",
       "8   ABSTRAK\\r\\n\\r\\nTujuan penelitian ini adalah un...   \n",
       "9   Hasil dari penelitian ini dari perhitungan Cre...   \n",
       "10  Tujuan penelitian ini adalah untuk mengetahui ...   \n",
       "11                                      ABSTRAK\\r\\...   \n",
       "12  Abstrak\\r\\nPenelitian ini menggunakan metode k...   \n",
       "13  Aplikasi nyata pemanfaatan teknologi informasi...   \n",
       "\n",
       "                                      Abstrak_Cleaned  \n",
       "0   Tujuan penelitian pengaruh variabel Retailing ...  \n",
       "1   Tujuan penelitian mengidentifikasi variabel-va...  \n",
       "2   ABSTRAK Penelitian rumusan pelaporan biaya kua...  \n",
       "3   Abstrak Aththaariq Pengaruh Kompetensi Dosen T...  \n",
       "4   Badan Usaha Milik Negara bergerak bidang penye...  \n",
       "5   ABSTRAK Tujuan penelitian mendeskripsikan inov...  \n",
       "6   ABSTRAK Dharma Abidin Syah Kesimpulan Terdapat...  \n",
       "7   ABSTRAK Haryono Arifin Pengaruh Perilaku Konsu...  \n",
       "8   ABSTRAK Tujuan penelitian mengidentifikasi var...  \n",
       "9   Hasil penelitian perhitungan Credit Risk Ratio...  \n",
       "10  Tujuan penelitian persepsi brand association p...  \n",
       "11  ABSTRAK Satiyah Pengaruh Faktor-faktor Pelatih...  \n",
       "12  Abstrak Penelitian metode kuantitatif menekank...  \n",
       "13  Aplikasi nyata pemanfaatan teknologi informasi...  "
      ]
     },
     "execution_count": 10,
     "metadata": {},
     "output_type": "execute_result"
    }
   ],
   "source": [
    "df"
   ]
  },
  {
   "cell_type": "markdown",
   "id": "801930c7",
   "metadata": {},
   "source": [
    "<p>Proses selanjutnya ialah menghilangkan kolom yang tidak digunakan</p>"
   ]
  },
  {
   "cell_type": "code",
   "execution_count": 11,
   "id": "9097d454",
   "metadata": {},
   "outputs": [],
   "source": [
    "df.drop(['Abstrak'],axis=1,inplace=True)"
   ]
  },
  {
   "cell_type": "code",
   "execution_count": 12,
   "id": "f24c66c4",
   "metadata": {},
   "outputs": [
    {
     "data": {
      "text/html": [
       "<div>\n",
       "<style scoped>\n",
       "    .dataframe tbody tr th:only-of-type {\n",
       "        vertical-align: middle;\n",
       "    }\n",
       "\n",
       "    .dataframe tbody tr th {\n",
       "        vertical-align: top;\n",
       "    }\n",
       "\n",
       "    .dataframe thead th {\n",
       "        text-align: right;\n",
       "    }\n",
       "</style>\n",
       "<table border=\"1\" class=\"dataframe\">\n",
       "  <thead>\n",
       "    <tr style=\"text-align: right;\">\n",
       "      <th></th>\n",
       "      <th>Abstrak_Cleaned</th>\n",
       "    </tr>\n",
       "  </thead>\n",
       "  <tbody>\n",
       "    <tr>\n",
       "      <th>0</th>\n",
       "      <td>Tujuan penelitian pengaruh variabel Retailing ...</td>\n",
       "    </tr>\n",
       "    <tr>\n",
       "      <th>1</th>\n",
       "      <td>Tujuan penelitian mengidentifikasi variabel-va...</td>\n",
       "    </tr>\n",
       "    <tr>\n",
       "      <th>2</th>\n",
       "      <td>ABSTRAK Penelitian rumusan pelaporan biaya kua...</td>\n",
       "    </tr>\n",
       "    <tr>\n",
       "      <th>3</th>\n",
       "      <td>Abstrak Aththaariq Pengaruh Kompetensi Dosen T...</td>\n",
       "    </tr>\n",
       "    <tr>\n",
       "      <th>4</th>\n",
       "      <td>Badan Usaha Milik Negara bergerak bidang penye...</td>\n",
       "    </tr>\n",
       "    <tr>\n",
       "      <th>5</th>\n",
       "      <td>ABSTRAK Tujuan penelitian mendeskripsikan inov...</td>\n",
       "    </tr>\n",
       "    <tr>\n",
       "      <th>6</th>\n",
       "      <td>ABSTRAK Dharma Abidin Syah Kesimpulan Terdapat...</td>\n",
       "    </tr>\n",
       "    <tr>\n",
       "      <th>7</th>\n",
       "      <td>ABSTRAK Haryono Arifin Pengaruh Perilaku Konsu...</td>\n",
       "    </tr>\n",
       "    <tr>\n",
       "      <th>8</th>\n",
       "      <td>ABSTRAK Tujuan penelitian mengidentifikasi var...</td>\n",
       "    </tr>\n",
       "    <tr>\n",
       "      <th>9</th>\n",
       "      <td>Hasil penelitian perhitungan Credit Risk Ratio...</td>\n",
       "    </tr>\n",
       "    <tr>\n",
       "      <th>10</th>\n",
       "      <td>Tujuan penelitian persepsi brand association p...</td>\n",
       "    </tr>\n",
       "    <tr>\n",
       "      <th>11</th>\n",
       "      <td>ABSTRAK Satiyah Pengaruh Faktor-faktor Pelatih...</td>\n",
       "    </tr>\n",
       "    <tr>\n",
       "      <th>12</th>\n",
       "      <td>Abstrak Penelitian metode kuantitatif menekank...</td>\n",
       "    </tr>\n",
       "    <tr>\n",
       "      <th>13</th>\n",
       "      <td>Aplikasi nyata pemanfaatan teknologi informasi...</td>\n",
       "    </tr>\n",
       "  </tbody>\n",
       "</table>\n",
       "</div>"
      ],
      "text/plain": [
       "                                      Abstrak_Cleaned\n",
       "0   Tujuan penelitian pengaruh variabel Retailing ...\n",
       "1   Tujuan penelitian mengidentifikasi variabel-va...\n",
       "2   ABSTRAK Penelitian rumusan pelaporan biaya kua...\n",
       "3   Abstrak Aththaariq Pengaruh Kompetensi Dosen T...\n",
       "4   Badan Usaha Milik Negara bergerak bidang penye...\n",
       "5   ABSTRAK Tujuan penelitian mendeskripsikan inov...\n",
       "6   ABSTRAK Dharma Abidin Syah Kesimpulan Terdapat...\n",
       "7   ABSTRAK Haryono Arifin Pengaruh Perilaku Konsu...\n",
       "8   ABSTRAK Tujuan penelitian mengidentifikasi var...\n",
       "9   Hasil penelitian perhitungan Credit Risk Ratio...\n",
       "10  Tujuan penelitian persepsi brand association p...\n",
       "11  ABSTRAK Satiyah Pengaruh Faktor-faktor Pelatih...\n",
       "12  Abstrak Penelitian metode kuantitatif menekank...\n",
       "13  Aplikasi nyata pemanfaatan teknologi informasi..."
      ]
     },
     "execution_count": 12,
     "metadata": {},
     "output_type": "execute_result"
    }
   ],
   "source": [
    "df"
   ]
  },
  {
   "cell_type": "markdown",
   "id": "e53ae645",
   "metadata": {},
   "source": [
    "<h2>Tfidf</h2>\n",
    "\n",
    "<p>Pada prses ini dilakukan proses Tfidf</p>\n",
    "<p>Dalam TfidfVectorizer sendiri telah terset default untuk membuat semua huruf menjadi lowercase </p>\n",
    "</p>\n",
    "\n",
    "<p>Untuk rumus Tfidf sendiri adalah sebagai berikut</p>"
   ]
  },
  {
   "cell_type": "markdown",
   "id": "1988c0fd",
   "metadata": {},
   "source": [
    "$w_{i, j}=t f_{i, j} \\times \\log \\left(\\frac{N}{d f_{i}}\\right)$\n",
    "\n",
    "$\n",
    "\\begin{aligned}\n",
    "t f_{i, j} &=\\text { banyaknya kata- } i \\text { pada dokumen ke- } j \\\\\n",
    "N &=\\text { total dokumen } \\\\\n",
    "d f_{i} &=\\text { banyaknya dokumen yang mengandung kata ke- } i\n",
    "\\end{aligned}\n",
    "$"
   ]
  },
  {
   "cell_type": "code",
   "execution_count": 13,
   "id": "5163d195",
   "metadata": {},
   "outputs": [],
   "source": [
    "vect =TfidfVectorizer(stop_words=stop_words,max_features=1000) # to play with. min_df,max_df,max_features etc..."
   ]
  },
  {
   "cell_type": "code",
   "execution_count": 14,
   "id": "4886e1b7",
   "metadata": {},
   "outputs": [
    {
     "name": "stderr",
     "output_type": "stream",
     "text": [
      "C:\\Users\\Arlaz\\AppData\\Local\\Programs\\Python\\Python310\\lib\\site-packages\\sklearn\\feature_extraction\\text.py:396: UserWarning: Your stop_words may be inconsistent with your preprocessing. Tokenizing the stop words generated tokens ['baiknya', 'berkali', 'kali', 'kurangnya', 'mata', 'olah', 'sekurang', 'setidak', 'tama', 'tidaknya'] not in stop_words.\n",
      "  warnings.warn(\n",
      "C:\\Users\\Arlaz\\AppData\\Local\\Programs\\Python\\Python310\\lib\\site-packages\\sklearn\\utils\\deprecation.py:87: FutureWarning: Function get_feature_names is deprecated; get_feature_names is deprecated in 1.0 and will be removed in 1.2. Please use get_feature_names_out instead.\n",
      "  warnings.warn(msg, category=FutureWarning)\n"
     ]
    }
   ],
   "source": [
    "vect_text=vect.fit_transform(df['Abstrak_Cleaned'])\n",
    "words = vect.get_feature_names()"
   ]
  },
  {
   "cell_type": "markdown",
   "id": "01df8735",
   "metadata": {},
   "source": [
    "<p>Berikutnya disini adalah kita dapat melihat kata kata yang sering muncul atau disebut umum. </p>\n",
    "<p>Kata yang sering muncul akan memeiliki skor paling kecil dari pada kata yang lain</p>"
   ]
  },
  {
   "cell_type": "code",
   "execution_count": 15,
   "id": "b695fa2d",
   "metadata": {},
   "outputs": [
    {
     "name": "stdout",
     "output_type": "stream",
     "text": [
      "(14, 516)\n",
      "  (0, 258)\t0.02013461747206666\n",
      "  (0, 342)\t0.03041989600152473\n",
      "  (0, 447)\t0.06558282473832959\n",
      "  (0, 451)\t0.028298502322094705\n",
      "  (0, 150)\t0.0525400341839688\n",
      "  (0, 142)\t0.0525400341839688\n",
      "  (0, 22)\t0.060703919033996835\n",
      "  (0, 453)\t0.0525400341839688\n",
      "  (0, 29)\t0.060703919033996835\n",
      "  (0, 484)\t0.14024299710474247\n",
      "  (0, 86)\t0.03858378085155277\n",
      "  (0, 97)\t0.060703919033996835\n",
      "  (0, 31)\t0.060703919033996835\n",
      "  (0, 462)\t0.0525400341839688\n",
      "  (0, 54)\t0.060703919033996835\n",
      "  (0, 328)\t0.03858378085155277\n",
      "  (0, 180)\t0.02462752751913675\n",
      "  (0, 88)\t0.11575134255465833\n",
      "  (0, 283)\t0.060703919033996835\n",
      "  (0, 89)\t0.0354800158801719\n",
      "  (0, 268)\t0.03858378085155277\n",
      "  (0, 422)\t0.03858378085155277\n",
      "  (0, 113)\t0.032791412369164795\n",
      "  (0, 64)\t0.028298502322094705\n",
      "  (0, 477)\t0.03041989600152473\n",
      "  :\t:\n",
      "  (13, 228)\t0.25027190223846824\n",
      "  (13, 20)\t0.05005438044769365\n",
      "  (13, 379)\t0.1001087608953873\n",
      "  (13, 414)\t0.05005438044769365\n",
      "  (13, 435)\t0.044536047233530204\n",
      "  (13, 100)\t0.05005438044769365\n",
      "  (13, 274)\t0.15016314134308092\n",
      "  (13, 494)\t0.1001087608953873\n",
      "  (13, 500)\t0.15016314134308092\n",
      "  (13, 240)\t0.04025569545404981\n",
      "  (13, 122)\t0.04025569545404981\n",
      "  (13, 490)\t0.04025569545404981\n",
      "  (13, 251)\t0.044536047233530204\n",
      "  (13, 266)\t0.05005438044769365\n",
      "  (13, 258)\t0.01918205457550151\n",
      "  (13, 180)\t0.023462406354981903\n",
      "  (13, 88)\t0.07351678680267555\n",
      "  (13, 113)\t0.06248012037434866\n",
      "  (13, 64)\t0.08087912522308181\n",
      "  (13, 477)\t0.05796147913829069\n",
      "  (13, 439)\t0.03124006018717433\n",
      "  (13, 437)\t0.028980739569145344\n",
      "  (13, 96)\t0.04025569545404981\n",
      "  (13, 351)\t0.08907209446706041\n",
      "  (13, 358)\t0.0820219184067391\n"
     ]
    }
   ],
   "source": [
    "print(vect_text.shape)\n",
    "print(vect_text)"
   ]
  },
  {
   "cell_type": "code",
   "execution_count": 16,
   "id": "72da04bf",
   "metadata": {},
   "outputs": [],
   "source": [
    "idf=vect.idf_"
   ]
  },
  {
   "cell_type": "markdown",
   "id": "ce5d46ef",
   "metadata": {},
   "source": [
    "<p>disini dapat dilihat bahwa penelitian merupakan kata yang sering muncul</p>"
   ]
  },
  {
   "cell_type": "code",
   "execution_count": 17,
   "id": "69284114",
   "metadata": {},
   "outputs": [
    {
     "name": "stdout",
     "output_type": "stream",
     "text": [
      "kunci wildan\n",
      "1.0\n",
      "3.0149030205422647\n",
      "3.0149030205422647\n"
     ]
    }
   ],
   "source": [
    "dd=dict(zip(vect.get_feature_names(), idf))\n",
    "l=sorted(dd, key=(dd).get)\n",
    "print(l[0],l[-2])\n",
    "print(dd['kunci'])\n",
    "print(dd['wispandono'])\n",
    "print(dd['wildan'])\n"
   ]
  },
  {
   "cell_type": "markdown",
   "id": "cc4b38e3",
   "metadata": {},
   "source": [
    "<h2>Latent Semantic Analysis atau LSA</h2>\n",
    "<p></p>\n",
    "<p>disini untuk pengimplementasian LSA dengan menggunakan SVD</p>\n",
    "\n",
    "<p>Untuk contoh SVD adalah sebagi berikut:</p>\n",
    "\n",
    "$$\n",
    "\\text { Misalkan } A=\\left(\\begin{array}{cc}\n",
    "1 & -1 \\\\\n",
    "0 & 1 \\\\\n",
    "1 & 0\n",
    "\\end{array}\\right)\n",
    "\\text { Tentukan Dekomposisi nilai singular A }\n",
    "$$"
   ]
  },
  {
   "cell_type": "markdown",
   "id": "10c4b18e",
   "metadata": {},
   "source": [
    "<p>Maka hasilnya akan seperti berikut:</p>\n",
    "\n",
    "$$\n",
    "A A^{\\prime}=\\left(\\begin{array}{cc}\n",
    "1 & -1 \\\\\n",
    "0 & 1 \\\\\n",
    "1 & 0\n",
    "\\end{array}\\right)\\left(\\begin{array}{ccc}\n",
    "1 & 0 & 1 \\\\\n",
    "-1 & 0 & 1\n",
    "\\end{array}\\right)=\\left(\\begin{array}{ccc}\n",
    "2 & -1 & 1 \\\\\n",
    "-1 & 1 & 0 \\\\\n",
    "1 & 0 & 1\n",
    "\\end{array}\\right)\n",
    "$$"
   ]
  },
  {
   "cell_type": "code",
   "execution_count": 18,
   "id": "fb3b78a4",
   "metadata": {},
   "outputs": [],
   "source": [
    "lsa_model = TruncatedSVD(n_components=5, algorithm='randomized', n_iter=10, random_state=42)\n",
    "\n",
    "lsa_top=lsa_model.fit_transform(vect_text)"
   ]
  },
  {
   "cell_type": "code",
   "execution_count": 19,
   "id": "5a9d03ae",
   "metadata": {},
   "outputs": [
    {
     "name": "stdout",
     "output_type": "stream",
     "text": [
      "[[ 0.56325723 -0.31185761 -0.30663116 -0.21284195 -0.05738355]\n",
      " [ 0.35192685 -0.1241204  -0.03493777  0.25731728  0.09997027]\n",
      " [ 0.15905043 -0.17968417  0.28752938 -0.16631705 -0.3737704 ]\n",
      " [ 0.32783907 -0.10250827  0.21763634 -0.13865279  0.49358641]\n",
      " [ 0.42894564  0.43008771  0.1576426   0.28959261 -0.20010739]\n",
      " [ 0.13433731 -0.13402033  0.59449779 -0.23663343 -0.19095027]\n",
      " [ 0.5178398   0.47616506 -0.03334935 -0.09175598  0.15314264]\n",
      " [ 0.4140585  -0.31976306 -0.30996231 -0.11769575 -0.41649135]\n",
      " [ 0.53412019 -0.33412258 -0.14421438  0.10204025  0.07908344]\n",
      " [ 0.08260769 -0.09010578  0.48698849 -0.39714767 -0.03428273]\n",
      " [ 0.20335891 -0.2845925   0.19149525  0.53555011 -0.25432758]\n",
      " [ 0.37840665  0.51446246  0.13944044  0.18077865 -0.2480235 ]\n",
      " [ 0.62548593  0.17515681 -0.08590174 -0.27323556  0.20395752]\n",
      " [ 0.19294598 -0.30883867  0.3362438   0.39880337  0.40425409]]\n",
      "(14, 5)\n"
     ]
    }
   ],
   "source": [
    "print(lsa_top)\n",
    "print(lsa_top.shape)"
   ]
  },
  {
   "cell_type": "code",
   "execution_count": 20,
   "id": "b1e34d31",
   "metadata": {},
   "outputs": [
    {
     "name": "stdout",
     "output_type": "stream",
     "text": [
      "Document 0 :\n",
      "Topic  0  :  56.32572333122779\n",
      "Topic  1  :  -31.185761176789057\n",
      "Topic  2  :  -30.663116218670687\n",
      "Topic  3  :  -21.284195412821525\n",
      "Topic  4  :  -5.738355478823403\n"
     ]
    }
   ],
   "source": [
    "l=lsa_top[0]\n",
    "print(\"Document 0 :\")\n",
    "for i,topic in enumerate(l):\n",
    "  print(\"Topic \",i,\" : \",topic*100)"
   ]
  },
  {
   "cell_type": "code",
   "execution_count": 21,
   "id": "507a4e64",
   "metadata": {},
   "outputs": [
    {
     "name": "stdout",
     "output_type": "stream",
     "text": [
      "(5, 516)\n",
      "[[ 1.69920987e-02  7.71949070e-03  3.91988708e-03 ...  1.05236423e-02\n",
      "   7.71949070e-03  7.71949070e-03]\n",
      " [ 6.84697749e-04 -4.00251674e-03 -7.09009430e-03 ... -2.79324035e-02\n",
      "  -4.00251674e-03 -4.00251674e-03]\n",
      " [-1.05122467e-02  9.57266340e-03  4.31663380e-02 ...  3.42576889e-02\n",
      "   9.57266340e-03  9.57266340e-03]\n",
      " [ 1.63038619e-05 -6.64527471e-03 -3.83584893e-02 ...  4.42736729e-02\n",
      "  -6.64527471e-03 -6.64527471e-03]\n",
      " [-3.12559728e-02  2.44344123e-02 -3.42010348e-03 ...  4.63548871e-02\n",
      "   2.44344123e-02  2.44344123e-02]]\n"
     ]
    }
   ],
   "source": [
    "print(lsa_model.components_.shape)\n",
    "print(lsa_model.components_)"
   ]
  },
  {
   "cell_type": "markdown",
   "id": "91689ce2",
   "metadata": {},
   "source": [
    "<p>Disini hanya terdapat 5 topic dikarenakan saat proses TruncatedSVD parameter untuk dimensi keluaran yang diinginkan hanya diisi 5 dan dibatasi 20 kata saja</p>"
   ]
  },
  {
   "cell_type": "code",
   "execution_count": 22,
   "id": "fe7bba87",
   "metadata": {},
   "outputs": [
    {
     "name": "stdout",
     "output_type": "stream",
     "text": [
      "Topic 0: \n",
      "variabel penelitian kerja konsumen pegawai kepemimpinan signifikan pengaruh hipotesis pembelian kepuasan kompensasi nilai berpengaruh prestasi keputusan kompetensi pelayanan pengujian pengembangan \n",
      "\n",
      "Topic 1: \n",
      "kerja pengembangan pegawai prestasi faktor produktivitas tipe kepemimpinan pelatihan karir karyawan semangat dinas kabupaten kelautan perikanan sampang demokratis kecamatan pangarengan \n",
      "\n",
      "Topic 2: \n",
      "bersaing inovasi keunggulan lamongan 2011 data mengalami akademik kompetensi bank resiko optik pemasaran reza tingkat 2008 kinerja daerah biaya pelanggan \n",
      "\n",
      "Topic 3: \n",
      "dimensi pelanggan persepsi akademik kepuasan association brand cranberries distro kiddrock kerja pengembangan portal pakaian karir karyawan semangat banking internet indeks \n",
      "\n",
      "Topic 4: \n",
      "kompetensi dosen akademik kepuasan madura universitas variabel portal kinerja trunojoyo nilai pedagogik kepemimpinan indeks kompensasi kepribadian profesional administrasi importance informasi \n",
      "\n"
     ]
    }
   ],
   "source": [
    "# most important words for each topic\n",
    "vocab = vect.get_feature_names()\n",
    "\n",
    "for i, comp in enumerate(lsa_model.components_):\n",
    "    vocab_comp = zip(vocab, comp)\n",
    "    sorted_words = sorted(vocab_comp, key= lambda x:x[1], reverse=True)[:20]\n",
    "    print(\"Topic \"+str(i)+\": \")\n",
    "    for t in sorted_words:\n",
    "        print(t[0],end=\" \")\n",
    "    print(\"\\n\")"
   ]
  }
 ],
 "metadata": {
  "kernelspec": {
   "display_name": "Python 3",
   "language": "python",
   "name": "python3"
  },
  "language_info": {
   "codemirror_mode": {
    "name": "ipython",
    "version": 3
   },
   "file_extension": ".py",
   "mimetype": "text/x-python",
   "name": "python",
   "nbconvert_exporter": "python",
   "pygments_lexer": "ipython3",
   "version": "3.10.3"
  }
 },
 "nbformat": 4,
 "nbformat_minor": 5
}
